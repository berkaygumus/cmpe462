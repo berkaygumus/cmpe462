{
 "cells": [
  {
   "cell_type": "markdown",
   "metadata": {},
   "source": [
    "<h1><center>CMPE 462 - Quiz 4&5 <br>Implementing a Regression Tree<br>Due: May 5, 2020, 23:59</center></h1>"
   ]
  },
  {
   "cell_type": "markdown",
   "metadata": {},
   "source": [
    "* **Student ID1: 2015401183**"
   ]
  },
  {
   "cell_type": "markdown",
   "metadata": {},
   "source": [
    "# Introduction\n",
    "\n",
    "Decision trees can learn rules to map features to both continous and discrete outputs. In this quiz, you will consider the continous case and implement a regression tree to predict house prices in Boston. You will also conduct small data analysis and evaluation procedures. This notebook will guide you through."
   ]
  },
  {
   "cell_type": "markdown",
   "metadata": {},
   "source": [
    "## (10 pts) Task 1: Dataset "
   ]
  },
  {
   "cell_type": "markdown",
   "metadata": {},
   "source": [
    "Run the cells below to load Boston house prices dataset using `scikit-learn`. You can find more detail on the dataset [here](https://scikit-learn.org/stable/datasets/index.html#boston-dataset). **Please use the train and test matrices we prepared for you :)**"
   ]
  },
  {
   "cell_type": "code",
   "execution_count": 1,
   "metadata": {},
   "outputs": [],
   "source": [
    "import numpy as np\n",
    "from sklearn.datasets import load_boston\n",
    "import seaborn as sns\n",
    "import matplotlib.pyplot as plt\n",
    "from sklearn.metrics import r2_score"
   ]
  },
  {
   "cell_type": "code",
   "execution_count": 2,
   "metadata": {},
   "outputs": [],
   "source": [
    "boston = load_boston()\n",
    "X_y = np.column_stack([boston['data'], boston['target']])\n",
    "np.random.seed(1)\n",
    "np.random.shuffle(X_y)\n",
    "X, y = X_y[:,:-1], X_y[:,-1]\n",
    "X_train, y_train = X[:400], y[:400]\n",
    "X_test, y_test = X[400:], y[400:]\n",
    "del X, y, X_y"
   ]
  },
  {
   "cell_type": "markdown",
   "metadata": {},
   "source": [
    "**(10 pts)** Unlike the dataset in Project 1, Boston dataset is high-dimensional and we cannot observe the relations between all features and the output with a single scatter plot. What we can do is to visualize the correlations between both features and house prices using a heatmap. So, stack the features and the outputs in a single matrix and compute correlation between all pairs of columns. Visualize the correlation coefficient matrix as a heatmap, which is $(N+1)x(N+1)$, where $N$ is the number of features in Boston dataset. You can check out `corrcoef` and `heatmap` functions from `numpy` and `seaborn` libraries, respectively. You can use diverging color palette to emphasize both positive and negative correlations.\n",
    "\n",
    "Do you observe strong correlations between any pair of features or certain features and house price? "
   ]
  },
  {
   "cell_type": "code",
   "execution_count": 3,
   "metadata": {},
   "outputs": [],
   "source": [
    "y_train = np.reshape(y_train, (400,1))\n",
    "data_train = np.concatenate((X_train, y_train), axis=1)"
   ]
  },
  {
   "cell_type": "markdown",
   "metadata": {},
   "source": [
    "**Heat Map**"
   ]
  },
  {
   "cell_type": "code",
   "execution_count": 4,
   "metadata": {},
   "outputs": [
    {
     "data": {
      "text/plain": [
       "<matplotlib.axes._subplots.AxesSubplot at 0x1e5e14eda08>"
      ]
     },
     "execution_count": 4,
     "metadata": {},
     "output_type": "execute_result"
    },
    {
     "data": {
      "image/png": "[encoded data removed]",
      "text/plain": [
       "<Figure size 432x288 with 2 Axes>"
      ]
     },
     "metadata": {
      "needs_background": "light"
     },
     "output_type": "display_data"
    }
   ],
   "source": [
    "corr_matrix = np.corrcoef(data_train.T)\n",
    "sns.heatmap(corr_matrix)"
   ]
  },
  {
   "cell_type": "markdown",
   "metadata": {},
   "source": [
    "I observed that the pixel related to feature 9 and feature 10 is the brightest pixel when I compared the features. These two features has the most positive correlation other pairs. Moreover, there are black pixels and they represent strong negative correlation. It is difficult to compare black pixels however, at the scale, the highest number is about 1(completely white) and the lowest number is about -0.7(completely black). The pixels related to feature 9 and 10 is almost completely white when the scale is checked and even if the most black pixels are completely black, their absolute values can not be higher than the pixels related to feature 9 and 10. So, the most correlated features are 9 and 10.\n",
    "The most correlated feature with label is feature 12. The most black pixel at the column 13(label column) is the pixel related to feature 13."
   ]
  },
  {
   "cell_type": "code",
   "execution_count": 5,
   "metadata": {},
   "outputs": [
    {
     "data": {
      "text/plain": [
       "array([-0.38849787,  0.34369601, -0.4705726 ,  0.19644737, -0.41990334,\n",
       "        0.68465709, -0.37397477,  0.2291105 , -0.39654306, -0.47040072,\n",
       "       -0.49980315,  0.362833  , -0.73535657,  1.        ])"
      ]
     },
     "execution_count": 5,
     "metadata": {},
     "output_type": "execute_result"
    }
   ],
   "source": [
    "corr_feature_target = corr_matrix[13,:]\n",
    "corr_feature_target"
   ]
  },
  {
   "cell_type": "markdown",
   "metadata": {},
   "source": [
    "When the pixel values at the map are checked, the most correlated feature is the feature and the least correlated feature is feature 4."
   ]
  },
  {
   "cell_type": "markdown",
   "metadata": {},
   "source": [
    "## (80 pts) Task 2: Regression Tree\n"
   ]
  },
  {
   "cell_type": "markdown",
   "metadata": {},
   "source": [
    "**(15 pts)** Let us now build the regression tree. We start by implementing the splitting criteria which is used to decide the most discriminative features at each step. We stick to lecture notes and use $RSS$ which is computed as follows:\n",
    "\n",
    "$$RSS =\\sum_{\\text {left }}\\left(y_{i}-y_{L}^{*}\\right)^{2}+\\sum_{\\text {right }}\\left(y_{i}-y_{R}^{*}\\right)^{2}$$\n",
    "\n",
    "where $y_L^* and y_L^*$ are mean y-value of left and right nodes.\n",
    "\n",
    "When you implement $RSS$, pick the most correlated and least correlated feature with the output prices according to previous step. Note that correlation can be both positive and negative! For both features, compute $RSS$ for every possible split threshold and plot thresholds versus RSS scores.\n",
    "\n",
    "Do two features display different characteristics?"
   ]
  },
  {
   "cell_type": "code",
   "execution_count": 6,
   "metadata": {},
   "outputs": [],
   "source": [
    "#for a feature, calculate and returns threshold values and its RSS values\n",
    "def calc_th_rss(samples_x, samples_y):\n",
    "    rss_values = []\n",
    "    samples_x_thresholds = []\n",
    "    sorted_samples_x = np.sort(samples_x)\n",
    "    for i in range(np.size(samples_x)-1):\n",
    "        if sorted_samples_x[i] != sorted_samples_x[i+1]:\n",
    "            th = [(sorted_samples_x[i] + sorted_samples_x[i+1])/2]\n",
    "            samples_x_thresholds.extend(th) \n",
    "    #samples_x_thresholds\n",
    "    for th in samples_x_thresholds:\n",
    "        left = []\n",
    "        right = []\n",
    "        for i in range(np.size(samples_x)):\n",
    "            if samples_x[i] < th:\n",
    "                left.extend(samples_y[i])\n",
    "            else:\n",
    "                right.extend(samples_y[i])\n",
    "        avg_left = np.sum(left)/np.size(left)\n",
    "        avg_right = np.sum(right)/np.size(right)\n",
    "        rss = [np.dot(left - avg_left,left - avg_left) + np.dot(right - avg_right,right - avg_right)]\n",
    "        rss_values.extend(rss)\n",
    "    return samples_x_thresholds, rss_values"
   ]
  },
  {
   "cell_type": "markdown",
   "metadata": {},
   "source": [
    "**Most Correlated**"
   ]
  },
  {
   "cell_type": "code",
   "execution_count": 7,
   "metadata": {},
   "outputs": [],
   "source": [
    "samples_x = X_train[:,12]\n",
    "samples_y = y_train"
   ]
  },
  {
   "cell_type": "code",
   "execution_count": 8,
   "metadata": {},
   "outputs": [
    {
     "data": {
      "text/plain": [
       "7.865"
      ]
     },
     "execution_count": 8,
     "metadata": {},
     "output_type": "execute_result"
    }
   ],
   "source": [
    "samples_x_thresholds, rss_values = calc_th_rss(samples_x, samples_y)\n",
    "samples_x_thresholds[np.argmin(rss_values)] #optimal threshold"
   ]
  },
  {
   "cell_type": "code",
   "execution_count": 9,
   "metadata": {},
   "outputs": [
    {
     "data": {
      "text/plain": [
       "18457.017449583796"
      ]
     },
     "execution_count": 9,
     "metadata": {},
     "output_type": "execute_result"
    }
   ],
   "source": [
    "np.min(rss_values)#minimum RSS"
   ]
  },
  {
   "cell_type": "code",
   "execution_count": 10,
   "metadata": {},
   "outputs": [
    {
     "data": {
      "text/plain": [
       "[<matplotlib.lines.Line2D at 0x1e5e15fc708>]"
      ]
     },
     "execution_count": 10,
     "metadata": {},
     "output_type": "execute_result"
    },
    {
     "data": {
      "image/png": "[encoded data removed]",
      "text/plain": [
       "<Figure size 432x288 with 1 Axes>"
      ]
     },
     "metadata": {
      "needs_background": "light"
     },
     "output_type": "display_data"
    }
   ],
   "source": [
    "plt.plot(samples_x_thresholds,rss_values)"
   ]
  },
  {
   "cell_type": "markdown",
   "metadata": {},
   "source": [
    "The most correlated feature is the 13.feature: LSTAT % lower status of the population.\n",
    "\n",
    "Optimal threshold is 7.865 and RSS is 18457.02"
   ]
  },
  {
   "cell_type": "markdown",
   "metadata": {},
   "source": [
    "**Least Correlated**"
   ]
  },
  {
   "cell_type": "code",
   "execution_count": 11,
   "metadata": {},
   "outputs": [],
   "source": [
    "samples_x = X_train[:,3]\n",
    "samples_y = y_train"
   ]
  },
  {
   "cell_type": "code",
   "execution_count": 12,
   "metadata": {},
   "outputs": [
    {
     "data": {
      "text/plain": [
       "0.5"
      ]
     },
     "execution_count": 12,
     "metadata": {},
     "output_type": "execute_result"
    }
   ],
   "source": [
    "samples_x_thresholds, rss_values = calc_th_rss(samples_x, samples_y)\n",
    "samples_x_thresholds[np.argmin(rss_values)] #optimal threshold"
   ]
  },
  {
   "cell_type": "code",
   "execution_count": 13,
   "metadata": {},
   "outputs": [
    {
     "data": {
      "text/plain": [
       "32293.54760368664"
      ]
     },
     "execution_count": 13,
     "metadata": {},
     "output_type": "execute_result"
    }
   ],
   "source": [
    "np.min(rss_values)#minimum RSS"
   ]
  },
  {
   "cell_type": "code",
   "execution_count": 14,
   "metadata": {},
   "outputs": [
    {
     "data": {
      "text/plain": [
       "[<matplotlib.lines.Line2D at 0x1e5e172eb88>]"
      ]
     },
     "execution_count": 14,
     "metadata": {},
     "output_type": "execute_result"
    },
    {
     "data": {
      "image/png": "[encoded data removed]",
      "text/plain": [
       "<Figure size 432x288 with 1 Axes>"
      ]
     },
     "metadata": {
      "needs_background": "light"
     },
     "output_type": "display_data"
    }
   ],
   "source": [
    "plt.plot(samples_x_thresholds,rss_values,marker='o')"
   ]
  },
  {
   "cell_type": "markdown",
   "metadata": {},
   "source": [
    "The least correlated feature is the 4.feature: CHAS Charles River dummy variable\n",
    "\n",
    "Min RSS value is 32293.54"
   ]
  },
  {
   "cell_type": "markdown",
   "metadata": {},
   "source": [
    "### Regression Tree"
   ]
  },
  {
   "cell_type": "markdown",
   "metadata": {},
   "source": [
    "**(45 pts)** Now implement the training procedure of a regression tree using $RSS$ as split criteria. Build a rule tree recursively by traversing all features and considering each split threshold to find the optimum split, at every node.\n",
    "\n",
    "You are free to implement training procedure as a standalone function or part of a class, but in any case use maximum depth as the stopping condition."
   ]
  },
  {
   "cell_type": "markdown",
   "metadata": {},
   "source": [
    "**Best Threshold**"
   ]
  },
  {
   "cell_type": "code",
   "execution_count": 15,
   "metadata": {},
   "outputs": [],
   "source": [
    "#calculates optimal threshold and min RSS for a specific feature\n",
    "def calc_best_th(samples_x, samples_y):\n",
    "    rss_values = []\n",
    "    samples_x_thresholds = []\n",
    "    sorted_samples_x = np.sort(samples_x)\n",
    "    for i in range(np.size(samples_x)-1):\n",
    "        if sorted_samples_x[i] != sorted_samples_x[i+1]:\n",
    "            th = [(sorted_samples_x[i] + sorted_samples_x[i+1])/2]\n",
    "            samples_x_thresholds.extend(th) \n",
    "    #samples_x_thresholds\n",
    "    if np.min(samples_x) - np.max(samples_x) == 0:#if all features are same, they are not discriminative and useles, so rss is identified as a huge number\n",
    "        return -1, 1000000\n",
    "        \n",
    "    for th in samples_x_thresholds:\n",
    "        left = []\n",
    "        right = []\n",
    "        for i in range(np.size(samples_x)):\n",
    "            if samples_x[i] < th:\n",
    "                left.extend(samples_y[i])\n",
    "            else:\n",
    "                right.extend(samples_y[i])\n",
    "        avg_left = np.sum(left)/np.size(left)\n",
    "        avg_right = np.sum(right)/np.size(right)\n",
    "        rss = [np.dot(left - avg_left,left - avg_left) + np.dot(right - avg_right,right - avg_right)]\n",
    "        rss_values.extend(rss)\n",
    "    best_th = samples_x_thresholds[np.argmin(rss_values)]\n",
    "    rss = np.min(rss_values)\n",
    "    return best_th, rss"
   ]
  },
  {
   "cell_type": "markdown",
   "metadata": {},
   "source": [
    "**Best Feature**"
   ]
  },
  {
   "cell_type": "code",
   "execution_count": 16,
   "metadata": {},
   "outputs": [],
   "source": [
    "#finds most discriminative feature and calculates its optimal threshold and min RSS for the feature\n",
    "def calc_best_feature_th(samples_X, samples_y):\n",
    "    feature_rss = np.zeros((13))\n",
    "    feature_th = np.zeros((13))\n",
    "    for d in range(13):\n",
    "        samples_x = samples_X[:,d]\n",
    "        best_th, rss = calc_best_th(samples_x, samples_y)\n",
    "        feature_rss[d] = rss\n",
    "        feature_th[d] = best_th\n",
    "    best_feature = np.argmin(feature_rss)\n",
    "    best_th = feature_th[best_feature]\n",
    "    return best_feature, best_th"
   ]
  },
  {
   "cell_type": "code",
   "execution_count": 17,
   "metadata": {},
   "outputs": [],
   "source": [
    "#samples_X = X_train\n",
    "#samples_y = y_train\n",
    "#best_feature, best_th = calc_best_feature_th(samples_X, samples_y)"
   ]
  },
  {
   "cell_type": "markdown",
   "metadata": {},
   "source": [
    "**Split Samples**"
   ]
  },
  {
   "cell_type": "code",
   "execution_count": 18,
   "metadata": {},
   "outputs": [],
   "source": [
    "class Node: \n",
    "    def __init__(self,X,y,d):#initial values: x samples, y samples and level\n",
    "        self.left = None\n",
    "        self.right = None\n",
    "        self.samples_X = X#samples\n",
    "        self.samples_y = y\n",
    "        self.feature = None #discriminative feature\n",
    "        self.th = None #threshold for the feature\n",
    "        self.size = None#the number of samples\n",
    "        self.price = None#if it is leaf, it is price, otherwise -1\n",
    "        self.depth = d#depth"
   ]
  },
  {
   "cell_type": "code",
   "execution_count": 19,
   "metadata": {},
   "outputs": [],
   "source": [
    "def tree_split(root,max_depth): \n",
    "    if np.std(root.samples_y) !=0 and root.depth<max_depth:\n",
    "        root.price = -1\n",
    "        #calculates best feature and its threshold\n",
    "        root.feature, root.th = calc_best_feature_th(root.samples_X, root.samples_y)\n",
    "        #print(\"feature-threshold: \" , root.feature,\" \" , root.th)#checks features and thresholds to draw tree\n",
    "        #splits samples x and samples y with respect to best feature and its threshold\n",
    "        left_samples_X, left_samples_y, right_samples_X, right_samples_y = split(root.samples_X,root.samples_y,root.feature,root.th)\n",
    "        left_size = np.size(left_samples_X,0)\n",
    "        #creates new nodes: left and right\n",
    "        left_child = Node(left_samples_X,left_samples_y,root.depth+1)\n",
    "        root.left = left_child\n",
    "        tree_split(root.left,max_depth) \n",
    "        right_child = Node(right_samples_X,right_samples_y,root.depth+1)\n",
    "        root.right = right_child\n",
    "        tree_split(root.right,max_depth) \n",
    "    else:\n",
    "        root.price = np.mean(root.samples_y)\n",
    "        #print(\"leaf \" , root.price)\n",
    "    "
   ]
  },
  {
   "cell_type": "code",
   "execution_count": 20,
   "metadata": {},
   "outputs": [],
   "source": [
    "def split(samples_X,samples_y,best_feature,best_th):\n",
    "    sample_size = np.size(samples_X,0)\n",
    "    left_samples_X = []\n",
    "    right_samples_X = []\n",
    "    left_samples_y = []\n",
    "    right_samples_y = []\n",
    "    for i in range (sample_size):\n",
    "        if samples_X[i,best_feature] < best_th:\n",
    "            if np.size(left_samples_X) == 0:\n",
    "                left_samples_X = samples_X[i,:]\n",
    "                left_samples_y = samples_y[i]\n",
    "            else:\n",
    "                left_samples_X = np.vstack((left_samples_X,samples_X[i,:])) \n",
    "                left_samples_y = np.vstack((left_samples_y,samples_y[i])) \n",
    "        else:\n",
    "            if np.size(right_samples_X) == 0:\n",
    "                right_samples_X = samples_X[i,:]\n",
    "                right_samples_y = samples_y[i]\n",
    "            else: \n",
    "                right_samples_X = np.vstack((right_samples_X,samples_X[i,:])) \n",
    "                right_samples_y = np.vstack((right_samples_y,samples_y[i]))\n",
    "    return left_samples_X, left_samples_y, right_samples_X, right_samples_y"
   ]
  },
  {
   "cell_type": "code",
   "execution_count": 21,
   "metadata": {},
   "outputs": [],
   "source": [
    "samples_X = X_train#training data\n",
    "samples_y = y_train#training label"
   ]
  },
  {
   "cell_type": "code",
   "execution_count": 22,
   "metadata": {},
   "outputs": [],
   "source": [
    "root1 = Node(samples_X,samples_y,0)"
   ]
  },
  {
   "cell_type": "code",
   "execution_count": 23,
   "metadata": {},
   "outputs": [],
   "source": [
    "tree_split(root1,100)#training #100 depth it causes overfitting "
   ]
  },
  {
   "cell_type": "markdown",
   "metadata": {},
   "source": [
    "**(15 pts)** Having implemented the regression tree, now write a procedure to predict test features. Given a sample, this procedure should follow the rules learned during the training to arrive at a leaf and predict the output as the mean output of the arrived leaf samples. \n",
    "\n",
    "If you have implemented a regression tree class, you can insert this procedure as a class function "
   ]
  },
  {
   "cell_type": "code",
   "execution_count": 24,
   "metadata": {},
   "outputs": [],
   "source": [
    "def estimate_value(root,sample_x): \n",
    "    if root.price == -1:#if it is not leaf\n",
    "        if sample_x[root.feature] < root.th:\n",
    "            return(estimate_value(root.left,sample_x))\n",
    "        else: \n",
    "            return(estimate_value(root.right,sample_x))\n",
    "    else:\n",
    "        return root.price"
   ]
  },
  {
   "cell_type": "markdown",
   "metadata": {},
   "source": [
    "**Training Data Estimation**"
   ]
  },
  {
   "cell_type": "code",
   "execution_count": 25,
   "metadata": {},
   "outputs": [
    {
     "data": {
      "text/plain": [
       "array([[0., 0., 0., 0., 0., 0., 0., 0., 0., 0., 0., 0., 0., 0., 0., 0.,\n",
       "        0., 0., 0., 0., 0., 0., 0., 0., 0., 0., 0., 0., 0., 0., 0., 0.,\n",
       "        0., 0., 0., 0., 0., 0., 0., 0., 0., 0., 0., 0., 0., 0., 0., 0.,\n",
       "        0., 0., 0., 0., 0., 0., 0., 0., 0., 0., 0., 0., 0., 0., 0., 0.,\n",
       "        0., 0., 0., 0., 0., 0., 0., 0., 0., 0., 0., 0., 0., 0., 0., 0.,\n",
       "        0., 0., 0., 0., 0., 0., 0., 0., 0., 0., 0., 0., 0., 0., 0., 0.,\n",
       "        0., 0., 0., 0., 0., 0., 0., 0., 0., 0., 0., 0., 0., 0., 0., 0.,\n",
       "        0., 0., 0., 0., 0., 0., 0., 0., 0., 0., 0., 0., 0., 0., 0., 0.,\n",
       "        0., 0., 0., 0., 0., 0., 0., 0., 0., 0., 0., 0., 0., 0., 0., 0.,\n",
       "        0., 0., 0., 0., 0., 0., 0., 0., 0., 0., 0., 0., 0., 0., 0., 0.,\n",
       "        0., 0., 0., 0., 0., 0., 0., 0., 0., 0., 0., 0., 0., 0., 0., 0.,\n",
       "        0., 0., 0., 0., 0., 0., 0., 0., 0., 0., 0., 0., 0., 0., 0., 0.,\n",
       "        0., 0., 0., 0., 0., 0., 0., 0., 0., 0., 0., 0., 0., 0., 0., 0.,\n",
       "        0., 0., 0., 0., 0., 0., 0., 0., 0., 0., 0., 0., 0., 0., 0., 0.,\n",
       "        0., 0., 0., 0., 0., 0., 0., 0., 0., 0., 0., 0., 0., 0., 0., 0.,\n",
       "        0., 0., 0., 0., 0., 0., 0., 0., 0., 0., 0., 0., 0., 0., 0., 0.,\n",
       "        0., 0., 0., 0., 0., 0., 0., 0., 0., 0., 0., 0., 0., 0., 0., 0.,\n",
       "        0., 0., 0., 0., 0., 0., 0., 0., 0., 0., 0., 0., 0., 0., 0., 0.,\n",
       "        0., 0., 0., 0., 0., 0., 0., 0., 0., 0., 0., 0., 0., 0., 0., 0.,\n",
       "        0., 0., 0., 0., 0., 0., 0., 0., 0., 0., 0., 0., 0., 0., 0., 0.,\n",
       "        0., 0., 0., 0., 0., 0., 0., 0., 0., 0., 0., 0., 0., 0., 0., 0.,\n",
       "        0., 0., 0., 0., 0., 0., 0., 0., 0., 0., 0., 0., 0., 0., 0., 0.,\n",
       "        0., 0., 0., 0., 0., 0., 0., 0., 0., 0., 0., 0., 0., 0., 0., 0.,\n",
       "        0., 0., 0., 0., 0., 0., 0., 0., 0., 0., 0., 0., 0., 0., 0., 0.,\n",
       "        0., 0., 0., 0., 0., 0., 0., 0., 0., 0., 0., 0., 0., 0., 0., 0.]])"
      ]
     },
     "execution_count": 25,
     "metadata": {},
     "output_type": "execute_result"
    }
   ],
   "source": [
    "sample_size = np.size(X_train,0)\n",
    "estimated_training_label = np.zeros((sample_size))\n",
    "actual_training_label = y_train\n",
    "for i in range(sample_size):\n",
    "    training_sample_x = X_train[i,:]\n",
    "    estimated_training_label[i] = estimate_value(root1,training_sample_x)\n",
    "training_error = actual_training_label.T-estimated_training_label\n",
    "training_error"
   ]
  },
  {
   "cell_type": "markdown",
   "metadata": {},
   "source": [
    "**Test Data Estimation**"
   ]
  },
  {
   "cell_type": "code",
   "execution_count": 26,
   "metadata": {},
   "outputs": [
    {
     "data": {
      "text/plain": [
       "array([ -1.9,   8.4,   5.1,   1.4,   1.6,   3.9,  -0.9,  -2.6,   0.4,\n",
       "        -1.1,   1.4,  -6.1,   2.2,   0.1,   9.7,  -0.6,   4.1,   0. ,\n",
       "        -1.9,   0.4,   1.5,   0.7,   3.7,   6.9,  -1.8,   0. ,   1.6,\n",
       "        -0.7,   0.8,   3.8,   2. ,  12.2,  -7.2,   7. ,   0.3,  -1.3,\n",
       "         2.7,  -0.5,   1.4,   0. ,   4.6,   0.5,  -8.7,   1.3,  -1.2,\n",
       "        -0.5,  -4.6,  -2.8,  -1.2,   2.9,  -3.8,   0.2,  -3. ,  -0.4,\n",
       "        -1.7, -13.4,  -2.1,   3.2,   6.2,   2.7,   0.7,  -3.9,  -1.7,\n",
       "        -2. ,   0.2,  -2.6,  -2.7,  -0.2,   8.2,  -7.7,  -0.1,   3.1,\n",
       "        -2. ,  -0.5,   0.1,   3.6,  -3.5,  -3.2,  -3.5,   4.3,  -2.5,\n",
       "        -7.7,   4.6,   8.9,   4.6,   2.5,  -1.6,  -1.5,  -1.3,  -0.7,\n",
       "         4.1,  -0.2,   1.7,   2.3,  -0.2,  -1.6,   1.3,   0.5,   5.1,\n",
       "        -1.5,   2.3,   3.4,   2.4,   0.2,   4. ,   0.7])"
      ]
     },
     "execution_count": 26,
     "metadata": {},
     "output_type": "execute_result"
    }
   ],
   "source": [
    "sample_size = np.size(X_test,0)\n",
    "estimated_test_label = np.zeros((sample_size))\n",
    "actual_test_label = y_test\n",
    "for i in range(sample_size):\n",
    "    test_sample_x = X_test[i,:]\n",
    "    estimated_test_label[i] = estimate_value(root1,test_sample_x)\n",
    "test_error = actual_test_label.T-estimated_test_label\n",
    "test_error"
   ]
  },
  {
   "cell_type": "markdown",
   "metadata": {},
   "source": [
    "**(5 pts)** Train your model using a max depth of 3 and visualize the resulting tree. You can use an external tool such as draw.io or LaTeX for drawing. Annotate the nodes with split columns and thresholds. You can view the tree in this [link](https://scikit-learn.org/stable/modules/tree.html#tree) as an example. "
   ]
  },
  {
   "cell_type": "code",
   "execution_count": 27,
   "metadata": {},
   "outputs": [],
   "source": [
    "root3 = Node(samples_X,samples_y,0)#training"
   ]
  },
  {
   "cell_type": "code",
   "execution_count": 28,
   "metadata": {},
   "outputs": [],
   "source": [
    "tree_split(root3,3)#training #3 depth"
   ]
  },
  {
   "cell_type": "code",
   "execution_count": 29,
   "metadata": {},
   "outputs": [],
   "source": [
    "def print_tree(root):\n",
    "    if root.price == -1:\n",
    "        print(\"feature: \", root.feature, \" threshold: \" , root.th)\n",
    "        print_tree(root.left)\n",
    "        print_tree(root.right)\n",
    "    else:\n",
    "        print(\"price: \" , root.price)\n",
    "   "
   ]
  },
  {
   "cell_type": "code",
   "execution_count": 30,
   "metadata": {},
   "outputs": [
    {
     "name": "stdout",
     "output_type": "stream",
     "text": [
      "feature:  12  threshold:  7.865\n",
      "feature:  5  threshold:  7.436999999999999\n",
      "feature:  7  threshold:  1.48495\n",
      "price:  50.0\n",
      "price:  27.90098039215686\n",
      "feature:  0  threshold:  2.654025\n",
      "price:  45.80434782608695\n",
      "price:  21.9\n",
      "feature:  12  threshold:  15.0\n",
      "feature:  7  threshold:  1.2073999999999998\n",
      "price:  50.0\n",
      "price:  21.374834437086093\n",
      "feature:  4  threshold:  0.657\n",
      "price:  17.116363636363637\n",
      "price:  11.9984375\n"
     ]
    }
   ],
   "source": [
    "print_tree(root3) #Preorder (Root, Left, Right)"
   ]
  },
  {
   "cell_type": "code",
   "execution_count": 31,
   "metadata": {},
   "outputs": [],
   "source": [
    "#calc_r2_score(root3,X_train,y_train.T)"
   ]
  },
  {
   "cell_type": "code",
   "execution_count": 32,
   "metadata": {},
   "outputs": [],
   "source": [
    "#calc_r2_score(root3,X_test,y_test)"
   ]
  },
  {
   "attachments": {
    "image.png": {
     "image/png": "[encoded data removed]"
    }
   },
   "cell_type": "markdown",
   "metadata": {},
   "source": [
    "![image.png](attachment:image.png)"
   ]
  },
  {
   "cell_type": "markdown",
   "metadata": {},
   "source": [
    "## **(10 pts)** Task 3: Evaluation"
   ]
  },
  {
   "cell_type": "markdown",
   "metadata": {},
   "source": [
    "**(5 pts)** Now is time to pick the best maximum depth and observe your tree's performance! Implement a 5-fold cross validation procedure to experiment with maximum depths from 3 to 10. Report mean and standard deviation for each depth and pick the best one. For comparison you can use $R^2$, which is a metric frequently used to evaluate regression models. You can use `r2_score` function of `scikit-learn` and read more [here](https://scikit-learn.org/stable/modules/model_evaluation.html#r2-score)."
   ]
  },
  {
   "cell_type": "code",
   "execution_count": 33,
   "metadata": {},
   "outputs": [],
   "source": [
    "def calc_r2_score(root,X_test,y_test):\n",
    "    sample_size = np.size(X_test,0)\n",
    "    estimated_test_label = np.zeros((sample_size))\n",
    "    actual_test_label = y_test\n",
    "    for i in range(sample_size):\n",
    "        test_sample_x = X_test[i,:]\n",
    "        estimated_test_label[i] = estimate_value(root,test_sample_x)\n",
    "    test_error = actual_test_label.T-estimated_test_label\n",
    "    return r2_score(actual_test_label.T,estimated_test_label)"
   ]
  },
  {
   "cell_type": "code",
   "execution_count": 34,
   "metadata": {},
   "outputs": [
    {
     "data": {
      "text/plain": [
       "array([ 3,  4,  5,  6,  7,  8,  9, 10])"
      ]
     },
     "execution_count": 34,
     "metadata": {},
     "output_type": "execute_result"
    }
   ],
   "source": [
    "depth_values = np.arange(3,11)\n",
    "depth_values"
   ]
  },
  {
   "cell_type": "code",
   "execution_count": 35,
   "metadata": {},
   "outputs": [],
   "source": [
    "# from the project 1:\n",
    "#def depth_cross_validation(X_train,y_train,depth_values):\n",
    "r2_score_values = np.zeros((np.size(depth_values),5))\n",
    "np.random.seed(1)\n",
    "shuffle = np.random.permutation(400)\n",
    "shuffled_x=X_train[shuffle,:]\n",
    "shuffled_y=y_train[shuffle]\n",
    "folds_trainx=np.array_split(shuffled_x,5)#shuffled and split x data\n",
    "folds_trainy=np.array_split(shuffled_y,5)#shuffled and split y\n",
    "kfold_test_data_vector = []#test data vector for 5 test cases\n",
    "kfold_test_label_vector = []#label vector for 5 test cases\n",
    "for i in range (5):\n",
    "    kfold_test_data_vector.append(folds_trainx[i])#each part of shuffled x data is appended to test data vector\n",
    "    kfold_test_label_vector.append(folds_trainy[i])#each part of shuffled y is appended to test label vector\n",
    "\n",
    "kfold_train_data_vector = []#training data vector for 5 training cases\n",
    "kfold_train_label_vector = []#label vector for 5 training cases\n",
    "\n",
    "for i in range (5):\n",
    "    temp_data_vector = []#to merge other 4 data folds \n",
    "    temp_label_vector = []#to merge other 4 label folds \n",
    "    for j in range (5):\n",
    "        if i != j: #if the fold is not the test fold, merge it \n",
    "            temp_data_vector.extend(kfold_test_data_vector[j]) #merged 4 data folds (training data for cross validation)\n",
    "            temp_label_vector.extend(kfold_test_label_vector[j]) #merged 4 label folds (training label for cross validation)\n",
    "    kfold_train_data_vector.append(temp_data_vector)#training data is appended to training data vector\n",
    "    kfold_train_label_vector.append(temp_label_vector)#training label is appended to training label vector\n"
   ]
  },
  {
   "cell_type": "code",
   "execution_count": 36,
   "metadata": {},
   "outputs": [],
   "source": [
    "for d in range(np.size(depth_values)):\n",
    "    for k in range(5):\n",
    "        temp_root = Node(np.array(kfold_train_data_vector[k]),np.array(kfold_train_label_vector[k]),0)#training\n",
    "        tree_split(temp_root,depth_values[d])\n",
    "        r2_score_values[d,k] = calc_r2_score(temp_root,np.array(kfold_test_data_vector[k]),np.array(kfold_test_label_vector[k]).T)"
   ]
  },
  {
   "cell_type": "code",
   "execution_count": 37,
   "metadata": {},
   "outputs": [
    {
     "data": {
      "text/plain": [
       "array([[0.77879059, 0.71189176, 0.81830478, 0.61415055, 0.78728286],\n",
       "       [0.83929427, 0.55967114, 0.8216544 , 0.64978517, 0.83240008],\n",
       "       [0.83772992, 0.59801806, 0.8401991 , 0.66982865, 0.81136934],\n",
       "       [0.85847581, 0.59534651, 0.81570595, 0.75210391, 0.81720887],\n",
       "       [0.84892971, 0.57052909, 0.80714162, 0.73910607, 0.82001507],\n",
       "       [0.81346726, 0.58841762, 0.79033532, 0.73122883, 0.81737567],\n",
       "       [0.79989452, 0.57494354, 0.78846006, 0.74436163, 0.8189355 ],\n",
       "       [0.80013948, 0.57118178, 0.78880246, 0.7312851 , 0.82013883]])"
      ]
     },
     "execution_count": 37,
     "metadata": {},
     "output_type": "execute_result"
    }
   ],
   "source": [
    "r2_score_values"
   ]
  },
  {
   "cell_type": "code",
   "execution_count": 38,
   "metadata": {},
   "outputs": [
    {
     "data": {
      "text/plain": [
       "array([0.74208411, 0.74056101, 0.75142901, 0.76776821, 0.75714431,\n",
       "       0.74816494, 0.74531905, 0.74230953])"
      ]
     },
     "execution_count": 38,
     "metadata": {},
     "output_type": "execute_result"
    }
   ],
   "source": [
    "#mean for each depth(3-4-5-6-7-8-9-10)\n",
    "score_means = np.mean(r2_score_values, axis=1)\n",
    "score_means"
   ]
  },
  {
   "cell_type": "code",
   "execution_count": 39,
   "metadata": {},
   "outputs": [
    {
     "data": {
      "text/plain": [
       "array([0.0727715 , 0.11464747, 0.0991104 , 0.09267674, 0.10002764,\n",
       "       0.08560245, 0.08864281, 0.09052021])"
      ]
     },
     "execution_count": 39,
     "metadata": {},
     "output_type": "execute_result"
    }
   ],
   "source": [
    "#std for each depth\n",
    "score_stds = np.std(r2_score_values, axis=1)\n",
    "score_stds"
   ]
  },
  {
   "cell_type": "code",
   "execution_count": 40,
   "metadata": {},
   "outputs": [
    {
     "data": {
      "text/plain": [
       "Text(0.5, 1.0, 'Means of R2 Score')"
      ]
     },
     "execution_count": 40,
     "metadata": {},
     "output_type": "execute_result"
    },
    {
     "data": {
      "image/png": "[encoded data removed]",
      "text/plain": [
       "<Figure size 432x288 with 1 Axes>"
      ]
     },
     "metadata": {
      "needs_background": "light"
     },
     "output_type": "display_data"
    }
   ],
   "source": [
    "plt.scatter(depth_values,score_means,marker='x',color='red')\n",
    "plt.xlabel(\"depth\")\n",
    "plt.ylabel(\"R2 Score mean\")\n",
    "plt.title(\"Means of R2 Score\")"
   ]
  },
  {
   "cell_type": "code",
   "execution_count": 41,
   "metadata": {},
   "outputs": [
    {
     "data": {
      "text/plain": [
       "Text(0.5, 1.0, 'Std of R2 Score')"
      ]
     },
     "execution_count": 41,
     "metadata": {},
     "output_type": "execute_result"
    },
    {
     "data": {
      "image/png": "[encoded data removed]",
      "text/plain": [
       "<Figure size 432x288 with 1 Axes>"
      ]
     },
     "metadata": {
      "needs_background": "light"
     },
     "output_type": "display_data"
    }
   ],
   "source": [
    "plt.scatter(depth_values,score_stds,marker='x',color='red')\n",
    "plt.xlabel(\"depth\")\n",
    "plt.ylabel(\"R2 Score std\")\n",
    "plt.title(\"Std of R2 Score\")"
   ]
  },
  {
   "cell_type": "markdown",
   "metadata": {},
   "source": [
    "Optimal depth is 6."
   ]
  },
  {
   "cell_type": "markdown",
   "metadata": {},
   "source": [
    "**(5 pts)** To conclude, train your tree one last time on the whole training data with the depth you picked in the previous section. Generate predictions on both training and test sets and report $R^2$ scores."
   ]
  },
  {
   "cell_type": "code",
   "execution_count": 42,
   "metadata": {},
   "outputs": [],
   "source": [
    "root6 = Node(samples_X,samples_y,0)\n",
    "tree_split(root6,6)#training # depth of 6"
   ]
  },
  {
   "cell_type": "code",
   "execution_count": 43,
   "metadata": {},
   "outputs": [
    {
     "data": {
      "text/plain": [
       "0.9421790670387243"
      ]
     },
     "execution_count": 43,
     "metadata": {},
     "output_type": "execute_result"
    }
   ],
   "source": [
    "calc_r2_score(root6,X_train,y_train.T) #training r2 score"
   ]
  },
  {
   "cell_type": "code",
   "execution_count": 44,
   "metadata": {},
   "outputs": [
    {
     "data": {
      "text/plain": [
       "0.8345513163278523"
      ]
     },
     "execution_count": 44,
     "metadata": {},
     "output_type": "execute_result"
    }
   ],
   "source": [
    "calc_r2_score(root6,X_test,y_test) #test r2 score"
   ]
  }
 ],
 "metadata": {
  "kernelspec": {
   "display_name": "Python 3",
   "language": "python",
   "name": "python3"
  },
  "language_info": {
   "codemirror_mode": {
    "name": "ipython",
    "version": 3
   },
   "file_extension": ".py",
   "mimetype": "text/x-python",
   "name": "python",
   "nbconvert_exporter": "python",
   "pygments_lexer": "ipython3",
   "version": "3.7.4"
  }
 },
 "nbformat": 4,
 "nbformat_minor": 4
}
