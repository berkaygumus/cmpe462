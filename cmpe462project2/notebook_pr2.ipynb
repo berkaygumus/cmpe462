{
 "cells": [
  {
   "cell_type": "markdown",
   "metadata": {},
   "source": [
    "<h1><center>CMPE 462 - Project 2<br>Implementing an SVM Classifier<br>Due: May 18, 2020, 23:59</center></h1>"
   ]
  },
  {
   "cell_type": "markdown",
   "metadata": {},
   "source": [
    "* **Student ID1:2015401183**\n",
    "* **Student ID2:2015300084**"
   ]
  },
  {
   "cell_type": "markdown",
   "metadata": {},
   "source": [
    "## Overview\n",
    "\n",
    "In this project, you are going to implement SVM. For this purpose, a data set (data.mat) is given to you. You can load the mat dataset into Python using the function `loadmat` in `Scipy.io`. When you load the data, you will obtain a dictionary object, where `X` stores the data matrix and `Y` stores the labels. You can use the first 150 samples for training and the rest for testing. In this project, you will use the software package [`LIBSVM`](http://www.csie.ntu.edu.tw/~cjlin/libsvm/) to implement SVM. Note that `LIBSVM` has a [`Python interface`](https://github.com/cjlin1/libsvm/tree/master/python), so you can call the SVM functions in Python. "
   ]
  },
  {
   "cell_type": "code",
   "execution_count": 1,
   "metadata": {},
   "outputs": [],
   "source": [
    "#to install svm libraries for windows\n",
    "#!pip install libsvm\n",
    "#!pip install svm\n",
    "#!pip install cvxopt"
   ]
  },
  {
   "cell_type": "code",
   "execution_count": 2,
   "metadata": {},
   "outputs": [],
   "source": [
    "#svm library for windows \n",
    "from libsvm.svmutil import *"
   ]
  },
  {
   "cell_type": "code",
   "execution_count": 3,
   "metadata": {},
   "outputs": [],
   "source": [
    "#svm library for mac\n",
    "#from svmutil import *"
   ]
  },
  {
   "cell_type": "code",
   "execution_count": 4,
   "metadata": {},
   "outputs": [],
   "source": [
    "import scipy.io as sio\n",
    "import numpy as np\n",
    "from ctypes import *\n",
    "import matplotlib.pyplot as plt\n",
    "from numpy import linalg as LA"
   ]
  },
  {
   "cell_type": "code",
   "execution_count": 5,
   "metadata": {},
   "outputs": [],
   "source": [
    "data_dict = sio.loadmat('data.mat')\n",
    "X = data_dict.get('X')\n",
    "y = data_dict.get('Y')\n",
    "X_train, y_train = X[:150],y[:150].reshape((150))#training data\n",
    "X_test, y_test = X[150:], y[150:].reshape((120))#test data"
   ]
  },
  {
   "cell_type": "markdown",
   "metadata": {},
   "source": [
    "## Task 1 - 30 pts\n",
    "\n",
    "Train a hard margin linear SVM and report both train and test classification accuracy."
   ]
  },
  {
   "cell_type": "code",
   "execution_count": 6,
   "metadata": {},
   "outputs": [],
   "source": [
    "hard_svm = svm_train(y_train, X_train, '-c 10000000000 -t 0')#hard margin linear(-t 0) svm with too high c"
   ]
  },
  {
   "cell_type": "code",
   "execution_count": 7,
   "metadata": {},
   "outputs": [
    {
     "name": "stdout",
     "output_type": "stream",
     "text": [
      "Accuracy = 74.6667% (112/150) (classification)\n"
     ]
    }
   ],
   "source": [
    "hard_svm_train_label, hard_svm_train_acc, hard_svm_train_val = svm_predict(y_train, X_train, hard_svm)#training accuracy"
   ]
  },
  {
   "cell_type": "code",
   "execution_count": 8,
   "metadata": {},
   "outputs": [
    {
     "name": "stdout",
     "output_type": "stream",
     "text": [
      "Accuracy = 77.5% (93/120) (classification)\n"
     ]
    }
   ],
   "source": [
    "hard_svm_test_label, hard_svm_test_acc, hard_svm_test_val = svm_predict(y_test, X_test, hard_svm)#test accuracy"
   ]
  },
  {
   "cell_type": "markdown",
   "metadata": {},
   "source": [
    "## Task 2 - 40 pts\n",
    "\n",
    "Train soft margin SVM for different values of the parameter $C$, and with different kernel functions. Systematically report your results. For instance, report the performances of different kernels for a fixed $C$, then report the performance for different $C$ values for a fixed kernel, and so on."
   ]
  },
  {
   "cell_type": "code",
   "execution_count": 9,
   "metadata": {},
   "outputs": [],
   "source": [
    "#sv_nr = hard_svm.get_nr_sv()\n",
    "#sv_coef = hard_svm.get_sv_coef()\n",
    "#sv_array = hard_svm.get_SV()\n",
    "#sv_indices = hard_svm.get_sv_indices()\n",
    "#sv_bias_ctype = hard_svm.rho\n",
    "#sv_bias_array = np.ctypeslib.as_array(sv_bias_ctype,((1,1)))\n",
    "#sv_bias = sv_bias_array[0][0]"
   ]
  },
  {
   "cell_type": "code",
   "execution_count": 10,
   "metadata": {},
   "outputs": [],
   "source": [
    "#takes training data, test data,list of c values, and t type\n",
    "#returns tarining and test accuracies for each c values\n",
    "def test_C_values(y_train, X_train,y_test, X_test, c_list,t):\n",
    "    train_acc_array = np.zeros((np.size(c_list)))#test accuracy array\n",
    "    test_acc_array = np.zeros((np.size(c_list)))#test accuracy array\n",
    "    for c in range (np.size(c_list)):\n",
    "        option = '-c ' + str(c_list[c]) + ' -t ' + str(t)#option: c value and kernel type(t)\n",
    "        soft_svm = svm_train(y_train, X_train, option)#trainig svm model\n",
    "        print()\n",
    "        print(option + ' :')\n",
    "        print('training')\n",
    "        soft_svm_train_label, soft_svm_train_acc, soft_svm_train_val = svm_predict(y_train, X_train, soft_svm)#prediction of training data\n",
    "        train_acc_array[c] = soft_svm_train_acc[0]#training accuracy\n",
    "        \n",
    "        print('test')\n",
    "        soft_svm_test_label, soft_svm_test_acc, soft_svm_test_val = svm_predict(y_test, X_test, soft_svm)#prediction of test data\n",
    "        test_acc_array[c] = soft_svm_test_acc[0]#test accuracy\n",
    "    return train_acc_array, test_acc_array"
   ]
  },
  {
   "cell_type": "code",
   "execution_count": 11,
   "metadata": {},
   "outputs": [],
   "source": [
    "#exponential c values\n",
    "c_list_exp = [0.0001, 0.0003, 0.001,0.003,0.01, 0.03, 0.1, 0.3, 1, 3, 10, 30, 100, 300, 1000, 3000, 10000, 30000, 100000]"
   ]
  },
  {
   "cell_type": "code",
   "execution_count": 12,
   "metadata": {},
   "outputs": [
    {
     "name": "stdout",
     "output_type": "stream",
     "text": [
      "\n",
      "-c 0.0001 -t 0 :\n",
      "training\n",
      "Accuracy = 53.3333% (80/150) (classification)\n",
      "test\n",
      "Accuracy = 58.3333% (70/120) (classification)\n",
      "\n",
      "-c 0.0003 -t 0 :\n",
      "training\n",
      "Accuracy = 53.3333% (80/150) (classification)\n",
      "test\n",
      "Accuracy = 58.3333% (70/120) (classification)\n",
      "\n",
      "-c 0.001 -t 0 :\n",
      "training\n",
      "Accuracy = 53.3333% (80/150) (classification)\n",
      "test\n",
      "Accuracy = 58.3333% (70/120) (classification)\n",
      "\n",
      "-c 0.003 -t 0 :\n",
      "training\n",
      "Accuracy = 68.6667% (103/150) (classification)\n",
      "test\n",
      "Accuracy = 76.6667% (92/120) (classification)\n",
      "\n",
      "-c 0.01 -t 0 :\n",
      "training\n",
      "Accuracy = 82.6667% (124/150) (classification)\n",
      "test\n",
      "Accuracy = 84.1667% (101/120) (classification)\n",
      "\n",
      "-c 0.03 -t 0 :\n",
      "training\n",
      "Accuracy = 84.6667% (127/150) (classification)\n",
      "test\n",
      "Accuracy = 84.1667% (101/120) (classification)\n",
      "\n",
      "-c 0.1 -t 0 :\n",
      "training\n",
      "Accuracy = 86% (129/150) (classification)\n",
      "test\n",
      "Accuracy = 83.3333% (100/120) (classification)\n",
      "\n",
      "-c 0.3 -t 0 :\n",
      "training\n",
      "Accuracy = 85.3333% (128/150) (classification)\n",
      "test\n",
      "Accuracy = 83.3333% (100/120) (classification)\n",
      "\n",
      "-c 1 -t 0 :\n",
      "training\n",
      "Accuracy = 86.6667% (130/150) (classification)\n",
      "test\n",
      "Accuracy = 85% (102/120) (classification)\n",
      "\n",
      "-c 3 -t 0 :\n",
      "training\n",
      "Accuracy = 89.3333% (134/150) (classification)\n",
      "test\n",
      "Accuracy = 84.1667% (101/120) (classification)\n",
      "\n",
      "-c 10 -t 0 :\n",
      "training\n",
      "Accuracy = 88.6667% (133/150) (classification)\n",
      "test\n",
      "Accuracy = 81.6667% (98/120) (classification)\n",
      "\n",
      "-c 30 -t 0 :\n",
      "training\n",
      "Accuracy = 88.6667% (133/150) (classification)\n",
      "test\n",
      "Accuracy = 81.6667% (98/120) (classification)\n",
      "\n",
      "-c 100 -t 0 :\n",
      "training\n",
      "Accuracy = 88.6667% (133/150) (classification)\n",
      "test\n",
      "Accuracy = 81.6667% (98/120) (classification)\n",
      "\n",
      "-c 300 -t 0 :\n",
      "training\n",
      "Accuracy = 90% (135/150) (classification)\n",
      "test\n",
      "Accuracy = 81.6667% (98/120) (classification)\n",
      "\n",
      "-c 1000 -t 0 :\n",
      "training\n",
      "Accuracy = 90% (135/150) (classification)\n",
      "test\n",
      "Accuracy = 81.6667% (98/120) (classification)\n",
      "\n",
      "-c 3000 -t 0 :\n",
      "training\n",
      "Accuracy = 90% (135/150) (classification)\n",
      "test\n",
      "Accuracy = 81.6667% (98/120) (classification)\n",
      "\n",
      "-c 10000 -t 0 :\n",
      "training\n",
      "Accuracy = 90% (135/150) (classification)\n",
      "test\n",
      "Accuracy = 81.6667% (98/120) (classification)\n",
      "\n",
      "-c 30000 -t 0 :\n",
      "training\n",
      "Accuracy = 89.3333% (134/150) (classification)\n",
      "test\n",
      "Accuracy = 80.8333% (97/120) (classification)\n",
      "\n",
      "-c 100000 -t 0 :\n",
      "training\n",
      "Accuracy = 90% (135/150) (classification)\n",
      "test\n",
      "Accuracy = 82.5% (99/120) (classification)\n"
     ]
    }
   ],
   "source": [
    "t = 0 #linear SVM\n",
    "train_acc_array_t0_exp, test_acc_array_t0_exp = test_C_values(y_train, X_train, y_test, X_test, c_list_exp,t)"
   ]
  },
  {
   "cell_type": "code",
   "execution_count": 13,
   "metadata": {},
   "outputs": [
    {
     "name": "stdout",
     "output_type": "stream",
     "text": [
      "\n",
      "-c 0.0001 -t 1 :\n",
      "training\n",
      "Accuracy = 53.3333% (80/150) (classification)\n",
      "test\n",
      "Accuracy = 58.3333% (70/120) (classification)\n",
      "\n",
      "-c 0.0003 -t 1 :\n",
      "training\n",
      "Accuracy = 53.3333% (80/150) (classification)\n",
      "test\n",
      "Accuracy = 58.3333% (70/120) (classification)\n",
      "\n",
      "-c 0.001 -t 1 :\n",
      "training\n",
      "Accuracy = 53.3333% (80/150) (classification)\n",
      "test\n",
      "Accuracy = 58.3333% (70/120) (classification)\n",
      "\n",
      "-c 0.003 -t 1 :\n",
      "training\n",
      "Accuracy = 53.3333% (80/150) (classification)\n",
      "test\n",
      "Accuracy = 58.3333% (70/120) (classification)\n",
      "\n",
      "-c 0.01 -t 1 :\n",
      "training\n",
      "Accuracy = 53.3333% (80/150) (classification)\n",
      "test\n",
      "Accuracy = 58.3333% (70/120) (classification)\n",
      "\n",
      "-c 0.03 -t 1 :\n",
      "training\n",
      "Accuracy = 53.3333% (80/150) (classification)\n",
      "test\n",
      "Accuracy = 58.3333% (70/120) (classification)\n",
      "\n",
      "-c 0.1 -t 1 :\n",
      "training\n",
      "Accuracy = 53.3333% (80/150) (classification)\n",
      "test\n",
      "Accuracy = 58.3333% (70/120) (classification)\n",
      "\n",
      "-c 0.3 -t 1 :\n",
      "training\n",
      "Accuracy = 85.3333% (128/150) (classification)\n",
      "test\n",
      "Accuracy = 84.1667% (101/120) (classification)\n",
      "\n",
      "-c 1 -t 1 :\n",
      "training\n",
      "Accuracy = 86% (129/150) (classification)\n",
      "test\n",
      "Accuracy = 82.5% (99/120) (classification)\n",
      "\n",
      "-c 3 -t 1 :\n",
      "training\n",
      "Accuracy = 89.3333% (134/150) (classification)\n",
      "test\n",
      "Accuracy = 80.8333% (97/120) (classification)\n",
      "\n",
      "-c 10 -t 1 :\n",
      "training\n",
      "Accuracy = 94% (141/150) (classification)\n",
      "test\n",
      "Accuracy = 80.8333% (97/120) (classification)\n",
      "\n",
      "-c 30 -t 1 :\n",
      "training\n",
      "Accuracy = 96.6667% (145/150) (classification)\n",
      "test\n",
      "Accuracy = 81.6667% (98/120) (classification)\n",
      "\n",
      "-c 100 -t 1 :\n",
      "training\n",
      "Accuracy = 98.6667% (148/150) (classification)\n",
      "test\n",
      "Accuracy = 75% (90/120) (classification)\n",
      "\n",
      "-c 300 -t 1 :\n",
      "training\n",
      "Accuracy = 100% (150/150) (classification)\n",
      "test\n",
      "Accuracy = 74.1667% (89/120) (classification)\n",
      "\n",
      "-c 1000 -t 1 :\n",
      "training\n",
      "Accuracy = 100% (150/150) (classification)\n",
      "test\n",
      "Accuracy = 75.8333% (91/120) (classification)\n",
      "\n",
      "-c 3000 -t 1 :\n",
      "training\n",
      "Accuracy = 100% (150/150) (classification)\n",
      "test\n",
      "Accuracy = 75.8333% (91/120) (classification)\n",
      "\n",
      "-c 10000 -t 1 :\n",
      "training\n",
      "Accuracy = 100% (150/150) (classification)\n",
      "test\n",
      "Accuracy = 75.8333% (91/120) (classification)\n",
      "\n",
      "-c 30000 -t 1 :\n",
      "training\n",
      "Accuracy = 100% (150/150) (classification)\n",
      "test\n",
      "Accuracy = 75.8333% (91/120) (classification)\n",
      "\n",
      "-c 100000 -t 1 :\n",
      "training\n",
      "Accuracy = 100% (150/150) (classification)\n",
      "test\n",
      "Accuracy = 75.8333% (91/120) (classification)\n"
     ]
    }
   ],
   "source": [
    "t = 1#polynomial SVM\n",
    "train_acc_array_t1_exp, test_acc_array_t1_exp = test_C_values(y_train, X_train,y_test, X_test, c_list_exp,t)"
   ]
  },
  {
   "cell_type": "code",
   "execution_count": 14,
   "metadata": {},
   "outputs": [
    {
     "name": "stdout",
     "output_type": "stream",
     "text": [
      "\n",
      "-c 0.0001 -t 2 :\n",
      "training\n",
      "Accuracy = 53.3333% (80/150) (classification)\n",
      "test\n",
      "Accuracy = 58.3333% (70/120) (classification)\n",
      "\n",
      "-c 0.0003 -t 2 :\n",
      "training\n",
      "Accuracy = 53.3333% (80/150) (classification)\n",
      "test\n",
      "Accuracy = 58.3333% (70/120) (classification)\n",
      "\n",
      "-c 0.001 -t 2 :\n",
      "training\n",
      "Accuracy = 53.3333% (80/150) (classification)\n",
      "test\n",
      "Accuracy = 58.3333% (70/120) (classification)\n",
      "\n",
      "-c 0.003 -t 2 :\n",
      "training\n",
      "Accuracy = 53.3333% (80/150) (classification)\n",
      "test\n",
      "Accuracy = 58.3333% (70/120) (classification)\n",
      "\n",
      "-c 0.01 -t 2 :\n",
      "training\n",
      "Accuracy = 53.3333% (80/150) (classification)\n",
      "test\n",
      "Accuracy = 58.3333% (70/120) (classification)\n",
      "\n",
      "-c 0.03 -t 2 :\n",
      "training\n",
      "Accuracy = 53.3333% (80/150) (classification)\n",
      "test\n",
      "Accuracy = 58.3333% (70/120) (classification)\n",
      "\n",
      "-c 0.1 -t 2 :\n",
      "training\n",
      "Accuracy = 83.3333% (125/150) (classification)\n",
      "test\n",
      "Accuracy = 84.1667% (101/120) (classification)\n",
      "\n",
      "-c 0.3 -t 2 :\n",
      "training\n",
      "Accuracy = 84.6667% (127/150) (classification)\n",
      "test\n",
      "Accuracy = 84.1667% (101/120) (classification)\n",
      "\n",
      "-c 1 -t 2 :\n",
      "training\n",
      "Accuracy = 86.6667% (130/150) (classification)\n",
      "test\n",
      "Accuracy = 84.1667% (101/120) (classification)\n",
      "\n",
      "-c 3 -t 2 :\n",
      "training\n",
      "Accuracy = 90.6667% (136/150) (classification)\n",
      "test\n",
      "Accuracy = 83.3333% (100/120) (classification)\n",
      "\n",
      "-c 10 -t 2 :\n",
      "training\n",
      "Accuracy = 95.3333% (143/150) (classification)\n",
      "test\n",
      "Accuracy = 77.5% (93/120) (classification)\n",
      "\n",
      "-c 30 -t 2 :\n",
      "training\n",
      "Accuracy = 98% (147/150) (classification)\n",
      "test\n",
      "Accuracy = 78.3333% (94/120) (classification)\n",
      "\n",
      "-c 100 -t 2 :\n",
      "training\n",
      "Accuracy = 99.3333% (149/150) (classification)\n",
      "test\n",
      "Accuracy = 78.3333% (94/120) (classification)\n",
      "\n",
      "-c 300 -t 2 :\n",
      "training\n",
      "Accuracy = 99.3333% (149/150) (classification)\n",
      "test\n",
      "Accuracy = 80% (96/120) (classification)\n",
      "\n",
      "-c 1000 -t 2 :\n",
      "training\n",
      "Accuracy = 100% (150/150) (classification)\n",
      "test\n",
      "Accuracy = 76.6667% (92/120) (classification)\n",
      "\n",
      "-c 3000 -t 2 :\n",
      "training\n",
      "Accuracy = 100% (150/150) (classification)\n",
      "test\n",
      "Accuracy = 76.6667% (92/120) (classification)\n",
      "\n",
      "-c 10000 -t 2 :\n",
      "training\n",
      "Accuracy = 100% (150/150) (classification)\n",
      "test\n",
      "Accuracy = 76.6667% (92/120) (classification)\n",
      "\n",
      "-c 30000 -t 2 :\n",
      "training\n",
      "Accuracy = 100% (150/150) (classification)\n",
      "test\n",
      "Accuracy = 76.6667% (92/120) (classification)\n",
      "\n",
      "-c 100000 -t 2 :\n",
      "training\n",
      "Accuracy = 100% (150/150) (classification)\n",
      "test\n",
      "Accuracy = 76.6667% (92/120) (classification)\n"
     ]
    }
   ],
   "source": [
    "t = 2#radial basis SVM\n",
    "train_acc_array_t2_exp, test_acc_array_t2_exp = test_C_values(y_train, X_train,y_test, X_test, c_list_exp,t)"
   ]
  },
  {
   "cell_type": "code",
   "execution_count": 15,
   "metadata": {},
   "outputs": [
    {
     "name": "stdout",
     "output_type": "stream",
     "text": [
      "\n",
      "-c 0.0001 -t 3 :\n",
      "training\n",
      "Accuracy = 53.3333% (80/150) (classification)\n",
      "test\n",
      "Accuracy = 58.3333% (70/120) (classification)\n",
      "\n",
      "-c 0.0003 -t 3 :\n",
      "training\n",
      "Accuracy = 53.3333% (80/150) (classification)\n",
      "test\n",
      "Accuracy = 58.3333% (70/120) (classification)\n",
      "\n",
      "-c 0.001 -t 3 :\n",
      "training\n",
      "Accuracy = 53.3333% (80/150) (classification)\n",
      "test\n",
      "Accuracy = 58.3333% (70/120) (classification)\n",
      "\n",
      "-c 0.003 -t 3 :\n",
      "training\n",
      "Accuracy = 53.3333% (80/150) (classification)\n",
      "test\n",
      "Accuracy = 58.3333% (70/120) (classification)\n",
      "\n",
      "-c 0.01 -t 3 :\n",
      "training\n",
      "Accuracy = 53.3333% (80/150) (classification)\n",
      "test\n",
      "Accuracy = 58.3333% (70/120) (classification)\n",
      "\n",
      "-c 0.03 -t 3 :\n",
      "training\n",
      "Accuracy = 53.3333% (80/150) (classification)\n",
      "test\n",
      "Accuracy = 59.1667% (71/120) (classification)\n",
      "\n",
      "-c 0.1 -t 3 :\n",
      "training\n",
      "Accuracy = 82% (123/150) (classification)\n",
      "test\n",
      "Accuracy = 84.1667% (101/120) (classification)\n",
      "\n",
      "-c 0.3 -t 3 :\n",
      "training\n",
      "Accuracy = 84% (126/150) (classification)\n",
      "test\n",
      "Accuracy = 85% (102/120) (classification)\n",
      "\n",
      "-c 1 -t 3 :\n",
      "training\n",
      "Accuracy = 82.6667% (124/150) (classification)\n",
      "test\n",
      "Accuracy = 84.1667% (101/120) (classification)\n",
      "\n",
      "-c 3 -t 3 :\n",
      "training\n",
      "Accuracy = 83.3333% (125/150) (classification)\n",
      "test\n",
      "Accuracy = 82.5% (99/120) (classification)\n",
      "\n",
      "-c 10 -t 3 :\n",
      "training\n",
      "Accuracy = 78% (117/150) (classification)\n",
      "test\n",
      "Accuracy = 80% (96/120) (classification)\n",
      "\n",
      "-c 30 -t 3 :\n",
      "training\n",
      "Accuracy = 76% (114/150) (classification)\n",
      "test\n",
      "Accuracy = 75% (90/120) (classification)\n",
      "\n",
      "-c 100 -t 3 :\n",
      "training\n",
      "Accuracy = 76.6667% (115/150) (classification)\n",
      "test\n",
      "Accuracy = 72.5% (87/120) (classification)\n",
      "\n",
      "-c 300 -t 3 :\n",
      "training\n",
      "Accuracy = 75.3333% (113/150) (classification)\n",
      "test\n",
      "Accuracy = 74.1667% (89/120) (classification)\n",
      "\n",
      "-c 1000 -t 3 :\n",
      "training\n",
      "Accuracy = 75.3333% (113/150) (classification)\n",
      "test\n",
      "Accuracy = 74.1667% (89/120) (classification)\n",
      "\n",
      "-c 3000 -t 3 :\n",
      "training\n",
      "Accuracy = 76% (114/150) (classification)\n",
      "test\n",
      "Accuracy = 73.3333% (88/120) (classification)\n",
      "\n",
      "-c 10000 -t 3 :\n",
      "training\n",
      "Accuracy = 75.3333% (113/150) (classification)\n",
      "test\n",
      "Accuracy = 74.1667% (89/120) (classification)\n",
      "\n",
      "-c 30000 -t 3 :\n",
      "training\n",
      "Accuracy = 76% (114/150) (classification)\n",
      "test\n",
      "Accuracy = 75% (90/120) (classification)\n",
      "\n",
      "-c 100000 -t 3 :\n",
      "training\n",
      "Accuracy = 75.3333% (113/150) (classification)\n",
      "test\n",
      "Accuracy = 73.3333% (88/120) (classification)\n"
     ]
    }
   ],
   "source": [
    "t = 3#sigmoid SVM\n",
    "train_acc_array_t3_exp, test_acc_array_t3_exp = test_C_values(y_train, X_train, y_test, X_test, c_list_exp,t)"
   ]
  },
  {
   "cell_type": "code",
   "execution_count": 16,
   "metadata": {},
   "outputs": [
    {
     "name": "stdout",
     "output_type": "stream",
     "text": [
      "training accuracies:\n",
      "C values:\t\tlinear SVM\t\tpolynomial SVM\t\tradial basis SVM\tsigmoid SVM\n",
      "--------\t\t-------------\t\t------------\t\t------------\t\t------------\n",
      "0.000100\t\t53.333333\t\t53.333333\t\t53.333333\t\t53.333333\n",
      "0.000300\t\t53.333333\t\t53.333333\t\t53.333333\t\t53.333333\n",
      "0.001000\t\t53.333333\t\t53.333333\t\t53.333333\t\t53.333333\n",
      "0.003000\t\t68.666667\t\t53.333333\t\t53.333333\t\t53.333333\n",
      "0.010000\t\t82.666667\t\t53.333333\t\t53.333333\t\t53.333333\n",
      "0.030000\t\t84.666667\t\t53.333333\t\t53.333333\t\t53.333333\n",
      "0.100000\t\t86.000000\t\t53.333333\t\t83.333333\t\t82.000000\n",
      "0.300000\t\t85.333333\t\t85.333333\t\t84.666667\t\t84.000000\n",
      "1.000000\t\t86.666667\t\t86.000000\t\t86.666667\t\t82.666667\n",
      "3.000000\t\t89.333333\t\t89.333333\t\t90.666667\t\t83.333333\n",
      "10.000000\t\t88.666667\t\t94.000000\t\t95.333333\t\t78.000000\n",
      "30.000000\t\t88.666667\t\t96.666667\t\t98.000000\t\t76.000000\n",
      "100.000000\t\t88.666667\t\t98.666667\t\t99.333333\t\t76.666667\n",
      "300.000000\t\t90.000000\t\t100.000000\t\t99.333333\t\t75.333333\n",
      "1000.000000\t\t90.000000\t\t100.000000\t\t100.000000\t\t75.333333\n",
      "3000.000000\t\t90.000000\t\t100.000000\t\t100.000000\t\t76.000000\n",
      "10000.000000\t\t90.000000\t\t100.000000\t\t100.000000\t\t75.333333\n",
      "30000.000000\t\t89.333333\t\t100.000000\t\t100.000000\t\t76.000000\n",
      "100000.000000\t\t90.000000\t\t100.000000\t\t100.000000\t\t75.333333\n"
     ]
    }
   ],
   "source": [
    "#training accuracies\n",
    "print('training accuracies:')\n",
    "print (\"%s:\\t\\t%s\\t\\t%s\\t\\t%s\\t%s\" % ('C values','linear SVM','polynomial SVM', 'radial basis SVM','sigmoid SVM' ))\n",
    "print (\"%s\\t\\t%s\\t\\t%s\\t\\t%s\\t\\t%s\" % ('--------', '-------------', '------------', '------------', '------------'))\n",
    "for i in range(np.size(c_list_exp)):\n",
    "       print (\"%f\\t\\t%f\\t\\t%f\\t\\t%f\\t\\t%f\" % (c_list_exp[i],train_acc_array_t0_exp[i], train_acc_array_t1_exp[i], train_acc_array_t2_exp[i],train_acc_array_t3_exp[i]))\n"
   ]
  },
  {
   "cell_type": "code",
   "execution_count": 17,
   "metadata": {},
   "outputs": [
    {
     "name": "stdout",
     "output_type": "stream",
     "text": [
      "test accuracies:\n",
      "C values:\t\tlinear SVM\t\tpolynomial SVM\t\tradial basis SVM\tsigmoid SVM\n",
      "--------\t\t-------------\t\t------------\t\t------------\t\t------------\n",
      "0.000100\t\t58.333333\t\t58.333333\t\t58.333333\t\t58.333333\n",
      "0.000300\t\t58.333333\t\t58.333333\t\t58.333333\t\t58.333333\n",
      "0.001000\t\t58.333333\t\t58.333333\t\t58.333333\t\t58.333333\n",
      "0.003000\t\t76.666667\t\t58.333333\t\t58.333333\t\t58.333333\n",
      "0.010000\t\t84.166667\t\t58.333333\t\t58.333333\t\t58.333333\n",
      "0.030000\t\t84.166667\t\t58.333333\t\t58.333333\t\t59.166667\n",
      "0.100000\t\t83.333333\t\t58.333333\t\t84.166667\t\t84.166667\n",
      "0.300000\t\t83.333333\t\t84.166667\t\t84.166667\t\t85.000000\n",
      "1.000000\t\t85.000000\t\t82.500000\t\t84.166667\t\t84.166667\n",
      "3.000000\t\t84.166667\t\t80.833333\t\t83.333333\t\t82.500000\n",
      "10.000000\t\t81.666667\t\t80.833333\t\t77.500000\t\t80.000000\n",
      "30.000000\t\t81.666667\t\t81.666667\t\t78.333333\t\t75.000000\n",
      "100.000000\t\t81.666667\t\t75.000000\t\t78.333333\t\t72.500000\n",
      "300.000000\t\t81.666667\t\t74.166667\t\t80.000000\t\t74.166667\n",
      "1000.000000\t\t81.666667\t\t75.833333\t\t76.666667\t\t74.166667\n",
      "3000.000000\t\t81.666667\t\t75.833333\t\t76.666667\t\t73.333333\n",
      "10000.000000\t\t81.666667\t\t75.833333\t\t76.666667\t\t74.166667\n",
      "30000.000000\t\t80.833333\t\t75.833333\t\t76.666667\t\t75.000000\n",
      "100000.000000\t\t82.500000\t\t75.833333\t\t76.666667\t\t73.333333\n"
     ]
    }
   ],
   "source": [
    "#test accuracies\n",
    "print('test accuracies:')\n",
    "print (\"%s:\\t\\t%s\\t\\t%s\\t\\t%s\\t%s\" % ('C values','linear SVM','polynomial SVM', 'radial basis SVM','sigmoid SVM' ))\n",
    "print (\"%s\\t\\t%s\\t\\t%s\\t\\t%s\\t\\t%s\" % ('--------', '-------------', '------------', '------------', '------------'))\n",
    "for i in range(np.size(c_list_exp)):\n",
    "       print (\"%f\\t\\t%f\\t\\t%f\\t\\t%f\\t\\t%f\" % (c_list_exp[i],test_acc_array_t0_exp[i], test_acc_array_t1_exp[i], test_acc_array_t2_exp[i],test_acc_array_t3_exp[i]))\n"
   ]
  },
  {
   "cell_type": "code",
   "execution_count": 18,
   "metadata": {},
   "outputs": [
    {
     "data": {
      "text/plain": [
       "<matplotlib.legend.Legend at 0x23f9c66af48>"
      ]
     },
     "execution_count": 18,
     "metadata": {},
     "output_type": "execute_result"
    },
    {
     "data": {
      "image/png": "[encoded data removed]",
      "text/plain": [
       "<Figure size 432x288 with 1 Axes>"
      ]
     },
     "metadata": {
      "needs_background": "light"
     },
     "output_type": "display_data"
    }
   ],
   "source": [
    "plt.plot(c_list_exp,train_acc_array_t0_exp,'o',c_list_exp,train_acc_array_t1_exp,'x',c_list_exp,train_acc_array_t2_exp,'*',c_list_exp,train_acc_array_t3_exp,'.')\n",
    "plt.xscale('log')\n",
    "plt.grid(c_list_exp)\n",
    "plt.xticks(c_list_exp)\n",
    "plt.xlabel(\"C Values(exponential)\")\n",
    "plt.ylabel(\"Training Accuracy\")\n",
    "plt.title(\"C Values & Kernel Types vs. Training Accuracies\")\n",
    "plt.legend([\"linear SVM\",\"polynomial SVM\", \"radial basis function SVM\",\"sigmoid SVM\"])"
   ]
  },
  {
   "cell_type": "code",
   "execution_count": 19,
   "metadata": {},
   "outputs": [
    {
     "data": {
      "text/plain": [
       "<matplotlib.legend.Legend at 0x23f9cb34908>"
      ]
     },
     "execution_count": 19,
     "metadata": {},
     "output_type": "execute_result"
    },
    {
     "data": {
      "image/png": "[encoded data removed]",
      "text/plain": [
       "<Figure size 432x288 with 1 Axes>"
      ]
     },
     "metadata": {
      "needs_background": "light"
     },
     "output_type": "display_data"
    }
   ],
   "source": [
    "plt.plot(c_list_exp,test_acc_array_t0_exp,'o',c_list_exp,test_acc_array_t1_exp,'x',c_list_exp,test_acc_array_t2_exp,'*',c_list_exp,test_acc_array_t3_exp,'.')\n",
    "plt.xscale('log')\n",
    "plt.grid(c_list_exp)\n",
    "plt.xticks(c_list_exp)\n",
    "plt.xlabel(\"C Values(exponential)\")\n",
    "plt.ylabel(\"Test Accuracy\")\n",
    "plt.title(\"C Values & Kernel Types vs. Test Accuracies\")\n",
    "plt.legend([\"linear SVM\",\"polynomial SVM\", \"radial basis function SVM\",\"sigmoid SVM\"])"
   ]
  },
  {
   "cell_type": "code",
   "execution_count": 20,
   "metadata": {},
   "outputs": [],
   "source": [
    "#linear c values\n",
    "c_list_lnr = [0.1, 0.2, 0.3, 0.4, 0.5, 0.6, 0.7, 0.8, 0.9, 1]"
   ]
  },
  {
   "cell_type": "code",
   "execution_count": 21,
   "metadata": {},
   "outputs": [
    {
     "name": "stdout",
     "output_type": "stream",
     "text": [
      "\n",
      "-c 0.1 -t 0 :\n",
      "training\n",
      "Accuracy = 86% (129/150) (classification)\n",
      "test\n",
      "Accuracy = 83.3333% (100/120) (classification)\n",
      "\n",
      "-c 0.2 -t 0 :\n",
      "training\n",
      "Accuracy = 85.3333% (128/150) (classification)\n",
      "test\n",
      "Accuracy = 84.1667% (101/120) (classification)\n",
      "\n",
      "-c 0.3 -t 0 :\n",
      "training\n",
      "Accuracy = 85.3333% (128/150) (classification)\n",
      "test\n",
      "Accuracy = 83.3333% (100/120) (classification)\n",
      "\n",
      "-c 0.4 -t 0 :\n",
      "training\n",
      "Accuracy = 86% (129/150) (classification)\n",
      "test\n",
      "Accuracy = 85% (102/120) (classification)\n",
      "\n",
      "-c 0.5 -t 0 :\n",
      "training\n",
      "Accuracy = 86.6667% (130/150) (classification)\n",
      "test\n",
      "Accuracy = 85% (102/120) (classification)\n",
      "\n",
      "-c 0.6 -t 0 :\n",
      "training\n",
      "Accuracy = 88.6667% (133/150) (classification)\n",
      "test\n",
      "Accuracy = 85% (102/120) (classification)\n",
      "\n",
      "-c 0.7 -t 0 :\n",
      "training\n",
      "Accuracy = 87.3333% (131/150) (classification)\n",
      "test\n",
      "Accuracy = 85% (102/120) (classification)\n",
      "\n",
      "-c 0.8 -t 0 :\n",
      "training\n",
      "Accuracy = 87.3333% (131/150) (classification)\n",
      "test\n",
      "Accuracy = 85% (102/120) (classification)\n",
      "\n",
      "-c 0.9 -t 0 :\n",
      "training\n",
      "Accuracy = 87.3333% (131/150) (classification)\n",
      "test\n",
      "Accuracy = 84.1667% (101/120) (classification)\n",
      "\n",
      "-c 1 -t 0 :\n",
      "training\n",
      "Accuracy = 86.6667% (130/150) (classification)\n",
      "test\n",
      "Accuracy = 85% (102/120) (classification)\n"
     ]
    }
   ],
   "source": [
    "t = 0#linear SVM\n",
    "train_acc_array_t0_lnr, test_acc_array_t0_lnr = test_C_values(y_train, X_train, y_test, X_test, c_list_lnr,t)"
   ]
  },
  {
   "cell_type": "code",
   "execution_count": 22,
   "metadata": {},
   "outputs": [
    {
     "name": "stdout",
     "output_type": "stream",
     "text": [
      "\n",
      "-c 0.1 -t 1 :\n",
      "training\n",
      "Accuracy = 53.3333% (80/150) (classification)\n",
      "test\n",
      "Accuracy = 58.3333% (70/120) (classification)\n",
      "\n",
      "-c 0.2 -t 1 :\n",
      "training\n",
      "Accuracy = 64% (96/150) (classification)\n",
      "test\n",
      "Accuracy = 67.5% (81/120) (classification)\n",
      "\n",
      "-c 0.3 -t 1 :\n",
      "training\n",
      "Accuracy = 85.3333% (128/150) (classification)\n",
      "test\n",
      "Accuracy = 84.1667% (101/120) (classification)\n",
      "\n",
      "-c 0.4 -t 1 :\n",
      "training\n",
      "Accuracy = 84% (126/150) (classification)\n",
      "test\n",
      "Accuracy = 78.3333% (94/120) (classification)\n",
      "\n",
      "-c 0.5 -t 1 :\n",
      "training\n",
      "Accuracy = 84.6667% (127/150) (classification)\n",
      "test\n",
      "Accuracy = 79.1667% (95/120) (classification)\n",
      "\n",
      "-c 0.6 -t 1 :\n",
      "training\n",
      "Accuracy = 84.6667% (127/150) (classification)\n",
      "test\n",
      "Accuracy = 79.1667% (95/120) (classification)\n",
      "\n",
      "-c 0.7 -t 1 :\n",
      "training\n",
      "Accuracy = 85.3333% (128/150) (classification)\n",
      "test\n",
      "Accuracy = 80.8333% (97/120) (classification)\n",
      "\n",
      "-c 0.8 -t 1 :\n",
      "training\n",
      "Accuracy = 86% (129/150) (classification)\n",
      "test\n",
      "Accuracy = 82.5% (99/120) (classification)\n",
      "\n",
      "-c 0.9 -t 1 :\n",
      "training\n",
      "Accuracy = 86% (129/150) (classification)\n",
      "test\n",
      "Accuracy = 82.5% (99/120) (classification)\n",
      "\n",
      "-c 1 -t 1 :\n",
      "training\n",
      "Accuracy = 86% (129/150) (classification)\n",
      "test\n",
      "Accuracy = 82.5% (99/120) (classification)\n"
     ]
    }
   ],
   "source": [
    "t = 1#polynomial SVM\n",
    "train_acc_array_t1_lnr, test_acc_array_t1_lnr = test_C_values(y_train, X_train, y_test, X_test, c_list_lnr,t)"
   ]
  },
  {
   "cell_type": "code",
   "execution_count": 23,
   "metadata": {},
   "outputs": [
    {
     "name": "stdout",
     "output_type": "stream",
     "text": [
      "\n",
      "-c 0.1 -t 2 :\n",
      "training\n",
      "Accuracy = 83.3333% (125/150) (classification)\n",
      "test\n",
      "Accuracy = 84.1667% (101/120) (classification)\n",
      "\n",
      "-c 0.2 -t 2 :\n",
      "training\n",
      "Accuracy = 84% (126/150) (classification)\n",
      "test\n",
      "Accuracy = 83.3333% (100/120) (classification)\n",
      "\n",
      "-c 0.3 -t 2 :\n",
      "training\n",
      "Accuracy = 84.6667% (127/150) (classification)\n",
      "test\n",
      "Accuracy = 84.1667% (101/120) (classification)\n",
      "\n",
      "-c 0.4 -t 2 :\n",
      "training\n",
      "Accuracy = 84% (126/150) (classification)\n",
      "test\n",
      "Accuracy = 84.1667% (101/120) (classification)\n",
      "\n",
      "-c 0.5 -t 2 :\n",
      "training\n",
      "Accuracy = 84.6667% (127/150) (classification)\n",
      "test\n",
      "Accuracy = 83.3333% (100/120) (classification)\n",
      "\n",
      "-c 0.6 -t 2 :\n",
      "training\n",
      "Accuracy = 85.3333% (128/150) (classification)\n",
      "test\n",
      "Accuracy = 83.3333% (100/120) (classification)\n",
      "\n",
      "-c 0.7 -t 2 :\n",
      "training\n",
      "Accuracy = 85.3333% (128/150) (classification)\n",
      "test\n",
      "Accuracy = 84.1667% (101/120) (classification)\n",
      "\n",
      "-c 0.8 -t 2 :\n",
      "training\n",
      "Accuracy = 86% (129/150) (classification)\n",
      "test\n",
      "Accuracy = 84.1667% (101/120) (classification)\n",
      "\n",
      "-c 0.9 -t 2 :\n",
      "training\n",
      "Accuracy = 86.6667% (130/150) (classification)\n",
      "test\n",
      "Accuracy = 84.1667% (101/120) (classification)\n",
      "\n",
      "-c 1 -t 2 :\n",
      "training\n",
      "Accuracy = 86.6667% (130/150) (classification)\n",
      "test\n",
      "Accuracy = 84.1667% (101/120) (classification)\n"
     ]
    }
   ],
   "source": [
    "t = 2#radial basis function SVM\n",
    "train_acc_array_t2_lnr, test_acc_array_t2_lnr = test_C_values(y_train, X_train, y_test, X_test, c_list_lnr,t)"
   ]
  },
  {
   "cell_type": "code",
   "execution_count": 24,
   "metadata": {},
   "outputs": [
    {
     "name": "stdout",
     "output_type": "stream",
     "text": [
      "\n",
      "-c 0.1 -t 3 :\n",
      "training\n",
      "Accuracy = 82% (123/150) (classification)\n",
      "test\n",
      "Accuracy = 84.1667% (101/120) (classification)\n",
      "\n",
      "-c 0.2 -t 3 :\n",
      "training\n",
      "Accuracy = 83.3333% (125/150) (classification)\n",
      "test\n",
      "Accuracy = 84.1667% (101/120) (classification)\n",
      "\n",
      "-c 0.3 -t 3 :\n",
      "training\n",
      "Accuracy = 84% (126/150) (classification)\n",
      "test\n",
      "Accuracy = 85% (102/120) (classification)\n",
      "\n",
      "-c 0.4 -t 3 :\n",
      "training\n",
      "Accuracy = 84% (126/150) (classification)\n",
      "test\n",
      "Accuracy = 84.1667% (101/120) (classification)\n",
      "\n",
      "-c 0.5 -t 3 :\n",
      "training\n",
      "Accuracy = 84% (126/150) (classification)\n",
      "test\n",
      "Accuracy = 84.1667% (101/120) (classification)\n",
      "\n",
      "-c 0.6 -t 3 :\n",
      "training\n",
      "Accuracy = 84% (126/150) (classification)\n",
      "test\n",
      "Accuracy = 84.1667% (101/120) (classification)\n",
      "\n",
      "-c 0.7 -t 3 :\n",
      "training\n",
      "Accuracy = 84.6667% (127/150) (classification)\n",
      "test\n",
      "Accuracy = 83.3333% (100/120) (classification)\n",
      "\n",
      "-c 0.8 -t 3 :\n",
      "training\n",
      "Accuracy = 84.6667% (127/150) (classification)\n",
      "test\n",
      "Accuracy = 82.5% (99/120) (classification)\n",
      "\n",
      "-c 0.9 -t 3 :\n",
      "training\n",
      "Accuracy = 84% (126/150) (classification)\n",
      "test\n",
      "Accuracy = 83.3333% (100/120) (classification)\n",
      "\n",
      "-c 1 -t 3 :\n",
      "training\n",
      "Accuracy = 82.6667% (124/150) (classification)\n",
      "test\n",
      "Accuracy = 84.1667% (101/120) (classification)\n"
     ]
    }
   ],
   "source": [
    "t = 3#sigmoid SVM\n",
    "train_acc_array_t3_lnr, test_acc_array_t3_lnr = test_C_values(y_train, X_train, y_test, X_test, c_list_lnr,t)"
   ]
  },
  {
   "cell_type": "code",
   "execution_count": 25,
   "metadata": {},
   "outputs": [
    {
     "name": "stdout",
     "output_type": "stream",
     "text": [
      "training accuracies:\n",
      "C values:\t\tlinear SVM\t\tpolynomial SVM\t\tradial basis SVM\tsigmoid SVM\n",
      "--------\t\t-------------\t\t------------\t\t------------\t\t------------\n",
      "0.100000\t\t86.000000\t\t53.333333\t\t83.333333\t\t82.000000\n",
      "0.200000\t\t85.333333\t\t64.000000\t\t84.000000\t\t83.333333\n",
      "0.300000\t\t85.333333\t\t85.333333\t\t84.666667\t\t84.000000\n",
      "0.400000\t\t86.000000\t\t84.000000\t\t84.000000\t\t84.000000\n",
      "0.500000\t\t86.666667\t\t84.666667\t\t84.666667\t\t84.000000\n",
      "0.600000\t\t88.666667\t\t84.666667\t\t85.333333\t\t84.000000\n",
      "0.700000\t\t87.333333\t\t85.333333\t\t85.333333\t\t84.666667\n",
      "0.800000\t\t87.333333\t\t86.000000\t\t86.000000\t\t84.666667\n",
      "0.900000\t\t87.333333\t\t86.000000\t\t86.666667\t\t84.000000\n",
      "1.000000\t\t86.666667\t\t86.000000\t\t86.666667\t\t82.666667\n"
     ]
    }
   ],
   "source": [
    "#training accuracies\n",
    "print('training accuracies:')\n",
    "print (\"%s:\\t\\t%s\\t\\t%s\\t\\t%s\\t%s\" % ('C values','linear SVM','polynomial SVM', 'radial basis SVM','sigmoid SVM' ))\n",
    "print (\"%s\\t\\t%s\\t\\t%s\\t\\t%s\\t\\t%s\" % ('--------', '-------------', '------------', '------------', '------------'))\n",
    "for i in range(np.size(c_list_lnr)):\n",
    "       print (\"%f\\t\\t%f\\t\\t%f\\t\\t%f\\t\\t%f\" % (c_list_lnr[i],train_acc_array_t0_lnr[i], train_acc_array_t1_lnr[i], train_acc_array_t2_lnr[i],train_acc_array_t3_lnr[i]))\n"
   ]
  },
  {
   "cell_type": "code",
   "execution_count": 26,
   "metadata": {},
   "outputs": [
    {
     "name": "stdout",
     "output_type": "stream",
     "text": [
      "test accuracies:\n",
      "C values:\t\tlinear SVM\t\tpolynomial SVM\t\tradial basis SVM\tsigmoid SVM\n",
      "--------\t\t-------------\t\t------------\t\t------------\t\t------------\n",
      "0.100000\t\t83.333333\t\t58.333333\t\t84.166667\t\t84.166667\n",
      "0.200000\t\t84.166667\t\t67.500000\t\t83.333333\t\t84.166667\n",
      "0.300000\t\t83.333333\t\t84.166667\t\t84.166667\t\t85.000000\n",
      "0.400000\t\t85.000000\t\t78.333333\t\t84.166667\t\t84.166667\n",
      "0.500000\t\t85.000000\t\t79.166667\t\t83.333333\t\t84.166667\n",
      "0.600000\t\t85.000000\t\t79.166667\t\t83.333333\t\t84.166667\n",
      "0.700000\t\t85.000000\t\t80.833333\t\t84.166667\t\t83.333333\n",
      "0.800000\t\t85.000000\t\t82.500000\t\t84.166667\t\t82.500000\n",
      "0.900000\t\t84.166667\t\t82.500000\t\t84.166667\t\t83.333333\n",
      "1.000000\t\t85.000000\t\t82.500000\t\t84.166667\t\t84.166667\n"
     ]
    }
   ],
   "source": [
    "#test accuracies\n",
    "print('test accuracies:')\n",
    "print (\"%s:\\t\\t%s\\t\\t%s\\t\\t%s\\t%s\" % ('C values','linear SVM','polynomial SVM', 'radial basis SVM','sigmoid SVM' ))\n",
    "print (\"%s\\t\\t%s\\t\\t%s\\t\\t%s\\t\\t%s\" % ('--------', '-------------', '------------', '------------', '------------'))\n",
    "for i in range(np.size(c_list_lnr)):\n",
    "       print (\"%f\\t\\t%f\\t\\t%f\\t\\t%f\\t\\t%f\" % (c_list_lnr[i],test_acc_array_t0_lnr[i], test_acc_array_t1_lnr[i], test_acc_array_t2_lnr[i],test_acc_array_t3_lnr[i]))\n"
   ]
  },
  {
   "cell_type": "code",
   "execution_count": 27,
   "metadata": {},
   "outputs": [
    {
     "data": {
      "text/plain": [
       "<matplotlib.legend.Legend at 0x23f9dcc7d08>"
      ]
     },
     "execution_count": 27,
     "metadata": {},
     "output_type": "execute_result"
    },
    {
     "data": {
      "image/png": "[encoded data removed]",
      "text/plain": [
       "<Figure size 432x288 with 1 Axes>"
      ]
     },
     "metadata": {
      "needs_background": "light"
     },
     "output_type": "display_data"
    }
   ],
   "source": [
    "plt.plot(c_list_lnr,train_acc_array_t0_lnr,'o',c_list_lnr,train_acc_array_t1_lnr,'x',c_list_lnr,train_acc_array_t2_lnr,'*',c_list_lnr,train_acc_array_t3_lnr,'.')\n",
    "plt.grid(c_list_lnr)\n",
    "plt.xticks(c_list_lnr)\n",
    "plt.xlabel(\"C Values(linear)\")\n",
    "plt.ylabel(\"Training Accuracy\")\n",
    "plt.title(\"C Values & Kernel Types vs. Training Accuracies\")\n",
    "plt.legend([\"linear SVM\",\"polynomial SVM\", \"radial basis function SVM\",\"sigmoid SVM\"])"
   ]
  },
  {
   "cell_type": "code",
   "execution_count": 28,
   "metadata": {},
   "outputs": [
    {
     "data": {
      "text/plain": [
       "<matplotlib.legend.Legend at 0x23f9dcf9308>"
      ]
     },
     "execution_count": 28,
     "metadata": {},
     "output_type": "execute_result"
    },
    {
     "data": {
      "image/png": "[encoded data removed]",
      "text/plain": [
       "<Figure size 432x288 with 1 Axes>"
      ]
     },
     "metadata": {
      "needs_background": "light"
     },
     "output_type": "display_data"
    }
   ],
   "source": [
    "plt.plot(c_list_lnr,test_acc_array_t0_lnr,'o',c_list_lnr,test_acc_array_t1_lnr,'x',c_list_lnr,test_acc_array_t2_lnr,'*',c_list_lnr,test_acc_array_t3_lnr,'.')\n",
    "plt.grid(c_list_lnr)\n",
    "plt.xticks(c_list_lnr)\n",
    "plt.xlabel(\"C Values(linear)\")\n",
    "plt.ylabel(\"Test Accuracy\")\n",
    "plt.title(\"C Values & Kernel Types vs. Test Accuracies\")\n",
    "plt.legend([\"linear SVM\",\"polynomial SVM\", \"radial basis function SVM\",\"sigmoid SVM\"])"
   ]
  },
  {
   "cell_type": "markdown",
   "metadata": {},
   "source": [
    "## Task 3 - 15 pts\n",
    "\n",
    "Please report how the number of support vectors changes as the value of $C$ increases (while all other parameters remain the same). Discuss whether your observations match the theory."
   ]
  },
  {
   "cell_type": "code",
   "execution_count": 29,
   "metadata": {},
   "outputs": [],
   "source": [
    "#takes training data and c values\n",
    "#returns the number of support vectors for each c value\n",
    "def get_nr_sv_C_values(y_train, X_train, c_list):\n",
    "    nr_sv_array = np.zeros((np.size(c_list)))#initial number array\n",
    "    for c in range (np.size(c_list)):\n",
    "        option = '-c ' + str(c_list[c]) + ' -t ' + str(0)#option with c value and linear svm\n",
    "        soft_svm = svm_train(y_train, X_train, option)#training\n",
    "        nr_sv_array[c] = soft_svm.get_nr_sv()#number of SV\n",
    "    return nr_sv_array"
   ]
  },
  {
   "cell_type": "code",
   "execution_count": 30,
   "metadata": {},
   "outputs": [],
   "source": [
    "#numbers of support vectors array\n",
    "nr_sv_array = get_nr_sv_C_values(y_train, X_train, c_list_exp)"
   ]
  },
  {
   "cell_type": "code",
   "execution_count": 31,
   "metadata": {},
   "outputs": [
    {
     "data": {
      "text/plain": [
       "Text(0.5, 1.0, 'C Values vs. number of Support Vector')"
      ]
     },
     "execution_count": 31,
     "metadata": {},
     "output_type": "execute_result"
    },
    {
     "data": {
      "image/png": "[encoded data removed]",
      "text/plain": [
       "<Figure size 432x288 with 1 Axes>"
      ]
     },
     "metadata": {
      "needs_background": "light"
     },
     "output_type": "display_data"
    }
   ],
   "source": [
    "plt.plot(c_list_exp,nr_sv_array,'o')\n",
    "plt.xscale('log')\n",
    "plt.grid(c_list_exp)\n",
    "plt.xticks(c_list_exp)\n",
    "#plt.yticks(nr_sv_array)\n",
    "plt.xlabel(\"C Values\")\n",
    "plt.ylabel(\"number of Support Vector\")\n",
    "plt.title(\"C Values vs. number of Support Vector\")"
   ]
  },
  {
   "cell_type": "markdown",
   "metadata": {},
   "source": [
    "## Task 4 - 15 pts\n",
    "\n",
    "Please investigate the changes in the hyperplane when you remove one of the support vectors, vs., one data point that is not a support vector."
   ]
  },
  {
   "cell_type": "code",
   "execution_count": 32,
   "metadata": {},
   "outputs": [],
   "source": [
    "#https://stackoverflow.com/questions/10131385/matlab-libsvm-how-to-find-the-w-coefficients\n",
    "#takes model, calculates and returns weight vector\n",
    "def get_weight(svm_model):\n",
    "    sv_nr = svm_model.get_nr_sv()#number of SV's\n",
    "    sv_coef = svm_model.get_sv_coef()#coefficients of SV's\n",
    "    sv_array = svm_model.get_SV()#SV's\n",
    "    sv_bias_ctype = svm_model.rho#rho value of the model( lp_c_double type)\n",
    "    sv_bias_array = np.ctypeslib.as_array(sv_bias_ctype,((1,1)))#converts to np array\n",
    "    sv_bias = -sv_bias_array[0][0]#negative rho value\n",
    "    d = 14 #feature numbers, features: [1 x1 x2 ... x13]\n",
    "    weight = np.zeros((d))#1x14 vector: [-rho w1 w2 ... w13]\n",
    "    weight[0] = sv_bias\n",
    "    for j in range (1,d):#for each attribute from 1 to 13\n",
    "        for i in range (np.size(sv_array)):#for each SV\n",
    "            if j in sv_array[i]:#if sv_array[i][j] is nonzero\n",
    "                weight[j] = weight[j] + np.array(sv_coef[i])*sv_array[i][j]\n",
    "    return weight #[-rho w1 w2 ... w13] perpendicular vector to the decision boundary"
   ]
  },
  {
   "cell_type": "code",
   "execution_count": 33,
   "metadata": {},
   "outputs": [],
   "source": [
    "#takes model, calculates and returns margin\n",
    "def get_margin(svm_model):\n",
    "    weight = get_weight(svm_model)\n",
    "    weight_x = weight[1:] #weight without bias: [w1 w2 ... w13]\n",
    "    margin = 1/LA.norm(weight_x) #1/two_norm(weight)\n",
    "    return margin "
   ]
  },
  {
   "cell_type": "code",
   "execution_count": 34,
   "metadata": {},
   "outputs": [],
   "source": [
    "svm1 = svm_train(y_train, X_train, '-c 10 -t 0')#initial svm model for 250 vectors and labels\n",
    "svm1_sv_nr = svm1.get_nr_sv()#numbers of SV's\n",
    "svm1_sv_indices = svm1.get_sv_indices() - np.ones((1))#at the library,index starts from 1,but it must start from 0"
   ]
  },
  {
   "cell_type": "code",
   "execution_count": 35,
   "metadata": {},
   "outputs": [],
   "source": [
    "sv_label = np.zeros((np.size(X_train,0)))#SV label, if it's SV, it's 1; otherwise it's 0\n",
    "for index in svm1_sv_indices:\n",
    "    sv_label[int(index)] = 1#SV indices\n",
    "#sv_label"
   ]
  },
  {
   "cell_type": "code",
   "execution_count": 36,
   "metadata": {},
   "outputs": [],
   "source": [
    "#svm1_sv_indices"
   ]
  },
  {
   "cell_type": "code",
   "execution_count": 37,
   "metadata": {},
   "outputs": [
    {
     "data": {
      "text/plain": [
       "array([ 2.37529588, -1.30726513,  0.52514823,  1.34794553,  1.38300601,\n",
       "        1.61374734,  0.15936149,  0.13144559, -1.8510571 , -0.0279832 ,\n",
       "       -0.07509238,  0.07069583,  2.72990177,  0.44450478])"
      ]
     },
     "execution_count": 37,
     "metadata": {},
     "output_type": "execute_result"
    }
   ],
   "source": [
    "w1 = get_weight(svm1)#initial weight\n",
    "w1"
   ]
  },
  {
   "cell_type": "code",
   "execution_count": 38,
   "metadata": {},
   "outputs": [
    {
     "data": {
      "text/plain": [
       "0.2267520036372602"
      ]
     },
     "execution_count": 38,
     "metadata": {},
     "output_type": "execute_result"
    }
   ],
   "source": [
    "margin1 = get_margin(svm1)\n",
    "margin1"
   ]
  },
  {
   "cell_type": "code",
   "execution_count": 39,
   "metadata": {},
   "outputs": [
    {
     "data": {
      "text/plain": [
       "51"
      ]
     },
     "execution_count": 39,
     "metadata": {},
     "output_type": "execute_result"
    }
   ],
   "source": [
    "SV_nr1 = svm1.get_nr_sv()\n",
    "SV_nr1"
   ]
  },
  {
   "cell_type": "code",
   "execution_count": 40,
   "metadata": {},
   "outputs": [],
   "source": [
    "#this part calculates new weight when one data vector and its label are removed\n",
    "weight_diff_array= np.zeros((np.size(X_train,0)))#vectors of 2 norm difference between initial weight and new weight\n",
    "margin_array = np.zeros((np.size(X_train,0)))#vectors of new margins \n",
    "SV_nr_array = np.zeros((np.size(X_train,0)))#vectors of new SV numbers\n",
    "for i in range(np.size(X_train,0)):#for each data vector\n",
    "    new_X_train = np.delete(X_train, i, 0)#data vector is removed\n",
    "    new_y_train = np.delete(y_train, i, 0)#data label is removed\n",
    "    new_svm = svm_train(new_y_train, new_X_train, '-c 10 -t 0')#training with C= 10 and linear SVM \n",
    "    new_w = get_weight(new_svm)#new weight\n",
    "    weight_diff_array[i] = LA.norm(w1-new_w)#2 norm of the difference vector\n",
    "    margin_array[i] = get_margin(new_svm)#new margin\n",
    "    SV_nr_array[i] = new_svm.get_nr_sv()"
   ]
  },
  {
   "cell_type": "code",
   "execution_count": 41,
   "metadata": {},
   "outputs": [
    {
     "data": {
      "text/plain": [
       "<matplotlib.legend.Legend at 0x23f9def75c8>"
      ]
     },
     "execution_count": 41,
     "metadata": {},
     "output_type": "execute_result"
    },
    {
     "data": {
      "image/png": "[encoded data removed]",
      "text/plain": [
       "<Figure size 432x288 with 1 Axes>"
      ]
     },
     "metadata": {
      "needs_background": "light"
     },
     "output_type": "display_data"
    }
   ],
   "source": [
    "index = np.arange(150)\n",
    "plt.plot(index[sv_label==1], weight_diff_array[sv_label==1],'x')#support vectors\n",
    "plt.plot(index[sv_label==0], weight_diff_array[sv_label==0],'.')#other vectors\n",
    "plt.xlabel(\"Vector Indices\")\n",
    "plt.ylabel(\"Weight Differences(2 norm)\")\n",
    "plt.title(\"Removed Vectors vs. Weight Differences\")\n",
    "plt.legend([\"Support Vectors\", \"Other Vectors\"])"
   ]
  },
  {
   "cell_type": "code",
   "execution_count": 42,
   "metadata": {},
   "outputs": [
    {
     "data": {
      "text/plain": [
       "<matplotlib.legend.Legend at 0x23f9df64248>"
      ]
     },
     "execution_count": 42,
     "metadata": {},
     "output_type": "execute_result"
    },
    {
     "data": {
      "image/png": "[encoded data removed]",
      "text/plain": [
       "<Figure size 432x288 with 1 Axes>"
      ]
     },
     "metadata": {
      "needs_background": "light"
     },
     "output_type": "display_data"
    }
   ],
   "source": [
    "index = np.arange(150)\n",
    "plt.plot(0,margin1,'go--')#for initial margin\n",
    "plt.plot(index[sv_label==1],margin_array[sv_label==1],'x')#for removed support vectors\n",
    "plt.plot(index[sv_label==0],margin_array[sv_label==0],'.')#for other removed vectors\n",
    "plt.xlabel(\"Vector Indices\")\n",
    "plt.ylabel(\"New Margins\")\n",
    "plt.title(\"Removed Vectors vs. New Margins\")\n",
    "plt.legend([\"Intial Margin\",\"Support Vectors\", \"Other Vectors\"])"
   ]
  },
  {
   "cell_type": "code",
   "execution_count": 43,
   "metadata": {},
   "outputs": [
    {
     "name": "stdout",
     "output_type": "stream",
     "text": [
      "index\t\t\tis_SV\t\t    new margin\t\t\t\tnrsv\n",
      "-----------------------------------------------------------------------------------------------\n",
      "initial SVM model:\t--\t\t0.2267520036372602\t\t\t51\n",
      "0:\t\t\t0.0\t\t0.22675200363726242\t\t\t51.0\n",
      "1:\t\t\t1.0\t\t0.22995883868578684\t\t\t52.0\n",
      "2:\t\t\t1.0\t\t0.22615660854433334\t\t\t49.0\n",
      "3:\t\t\t1.0\t\t0.1984020320601496\t\t\t46.0\n",
      "4:\t\t\t0.0\t\t0.22675200363726475\t\t\t51.0\n",
      "5:\t\t\t1.0\t\t0.24047346548135243\t\t\t52.0\n",
      "6:\t\t\t0.0\t\t0.22675200363726553\t\t\t51.0\n",
      "7:\t\t\t0.0\t\t0.22675200363726553\t\t\t51.0\n",
      "8:\t\t\t0.0\t\t0.22675200363726242\t\t\t51.0\n",
      "9:\t\t\t0.0\t\t0.22675200363726242\t\t\t51.0\n",
      "10:\t\t\t1.0\t\t0.23167168583992875\t\t\t50.0\n",
      "11:\t\t\t1.0\t\t0.2168246383808884\t\t\t52.0\n",
      "12:\t\t\t0.0\t\t0.22676068604907124\t\t\t51.0\n",
      "13:\t\t\t1.0\t\t0.2292597226330255\t\t\t53.0\n",
      "14:\t\t\t1.0\t\t0.2281056295789058\t\t\t49.0\n",
      "15:\t\t\t0.0\t\t0.22675200363726905\t\t\t51.0\n",
      "16:\t\t\t0.0\t\t0.22675200363726242\t\t\t51.0\n",
      "17:\t\t\t1.0\t\t0.2196975446895216\t\t\t51.0\n",
      "18:\t\t\t0.0\t\t0.22675200363726544\t\t\t51.0\n",
      "19:\t\t\t0.0\t\t0.2267524722210818\t\t\t51.0\n",
      "20:\t\t\t0.0\t\t0.22675200363726242\t\t\t51.0\n",
      "21:\t\t\t0.0\t\t0.22675724559521165\t\t\t51.0\n",
      "22:\t\t\t1.0\t\t0.22743045051715563\t\t\t52.0\n",
      "23:\t\t\t1.0\t\t0.23185276238736136\t\t\t51.0\n",
      "24:\t\t\t0.0\t\t0.2267609196936539\t\t\t51.0\n",
      "25:\t\t\t0.0\t\t0.2267520036372659\t\t\t51.0\n",
      "26:\t\t\t1.0\t\t0.23537329834105988\t\t\t51.0\n",
      "27:\t\t\t0.0\t\t0.2267520036372659\t\t\t51.0\n",
      "28:\t\t\t1.0\t\t0.2212979416070102\t\t\t50.0\n",
      "29:\t\t\t0.0\t\t0.22675772928784116\t\t\t51.0\n",
      "30:\t\t\t1.0\t\t0.2312908667143794\t\t\t51.0\n",
      "31:\t\t\t1.0\t\t0.2300310842870512\t\t\t50.0\n",
      "32:\t\t\t0.0\t\t0.22675200363726905\t\t\t51.0\n",
      "33:\t\t\t0.0\t\t0.22675200363726242\t\t\t51.0\n",
      "34:\t\t\t0.0\t\t0.2267520036372717\t\t\t51.0\n",
      "35:\t\t\t0.0\t\t0.22675200363726905\t\t\t51.0\n",
      "36:\t\t\t0.0\t\t0.22675200363726242\t\t\t51.0\n",
      "37:\t\t\t1.0\t\t0.22962230036329775\t\t\t48.0\n",
      "38:\t\t\t0.0\t\t0.22676571602147538\t\t\t51.0\n",
      "39:\t\t\t0.0\t\t0.22675279162004205\t\t\t51.0\n",
      "40:\t\t\t1.0\t\t0.23398010321316895\t\t\t52.0\n",
      "41:\t\t\t0.0\t\t0.22675200363726905\t\t\t51.0\n",
      "42:\t\t\t0.0\t\t0.22675200363726544\t\t\t51.0\n",
      "43:\t\t\t0.0\t\t0.22675200363726544\t\t\t51.0\n",
      "44:\t\t\t1.0\t\t0.2317508820974285\t\t\t51.0\n",
      "45:\t\t\t0.0\t\t0.22675200363726544\t\t\t51.0\n",
      "46:\t\t\t0.0\t\t0.22675549375620524\t\t\t51.0\n",
      "47:\t\t\t1.0\t\t0.23099104369823364\t\t\t51.0\n",
      "48:\t\t\t0.0\t\t0.2267520036372629\t\t\t51.0\n",
      "49:\t\t\t0.0\t\t0.2267520036372629\t\t\t51.0\n",
      "50:\t\t\t0.0\t\t0.22675200363726544\t\t\t51.0\n",
      "51:\t\t\t0.0\t\t0.22675200363726544\t\t\t51.0\n",
      "52:\t\t\t1.0\t\t0.2292515325180289\t\t\t51.0\n",
      "53:\t\t\t0.0\t\t0.22675200363726664\t\t\t51.0\n",
      "54:\t\t\t0.0\t\t0.22675200363726544\t\t\t51.0\n",
      "55:\t\t\t0.0\t\t0.22675200363726544\t\t\t51.0\n",
      "56:\t\t\t0.0\t\t0.22674699078595179\t\t\t51.0\n",
      "57:\t\t\t0.0\t\t0.22675200363726544\t\t\t51.0\n",
      "58:\t\t\t1.0\t\t0.2367754134222388\t\t\t50.0\n",
      "59:\t\t\t0.0\t\t0.22675200363726544\t\t\t51.0\n",
      "60:\t\t\t1.0\t\t0.24244944344103528\t\t\t52.0\n",
      "61:\t\t\t1.0\t\t0.22918736335293405\t\t\t50.0\n",
      "62:\t\t\t0.0\t\t0.22675648113325086\t\t\t51.0\n",
      "63:\t\t\t0.0\t\t0.22675200363726147\t\t\t51.0\n",
      "64:\t\t\t0.0\t\t0.22675200363726544\t\t\t51.0\n",
      "65:\t\t\t0.0\t\t0.2267520036372659\t\t\t51.0\n",
      "66:\t\t\t0.0\t\t0.2267545415733151\t\t\t51.0\n",
      "67:\t\t\t1.0\t\t0.24052350219163782\t\t\t49.0\n",
      "68:\t\t\t1.0\t\t0.22207213782327415\t\t\t50.0\n",
      "69:\t\t\t1.0\t\t0.22898900354310273\t\t\t50.0\n",
      "70:\t\t\t0.0\t\t0.22675208221288606\t\t\t51.0\n",
      "71:\t\t\t0.0\t\t0.2267534345671832\t\t\t51.0\n",
      "72:\t\t\t0.0\t\t0.2267570774286815\t\t\t51.0\n",
      "73:\t\t\t0.0\t\t0.22675200363726353\t\t\t51.0\n",
      "74:\t\t\t1.0\t\t0.22494816996451011\t\t\t49.0\n",
      "75:\t\t\t0.0\t\t0.2267520036372659\t\t\t51.0\n",
      "76:\t\t\t1.0\t\t0.22912475269953564\t\t\t51.0\n",
      "77:\t\t\t0.0\t\t0.22675200363726544\t\t\t51.0\n",
      "78:\t\t\t0.0\t\t0.22675200363726544\t\t\t51.0\n",
      "79:\t\t\t0.0\t\t0.22675200363726544\t\t\t51.0\n",
      "80:\t\t\t0.0\t\t0.22675200363726639\t\t\t51.0\n",
      "81:\t\t\t0.0\t\t0.22675387919793016\t\t\t51.0\n",
      "82:\t\t\t0.0\t\t0.22675983767774405\t\t\t51.0\n",
      "83:\t\t\t0.0\t\t0.22675723785800753\t\t\t51.0\n",
      "84:\t\t\t1.0\t\t0.23955341598204877\t\t\t49.0\n",
      "85:\t\t\t1.0\t\t0.22532654760997162\t\t\t50.0\n",
      "86:\t\t\t0.0\t\t0.22675200363726147\t\t\t51.0\n",
      "87:\t\t\t1.0\t\t0.27605216185198606\t\t\t50.0\n",
      "88:\t\t\t0.0\t\t0.2267520036372607\t\t\t51.0\n",
      "89:\t\t\t0.0\t\t0.22675200363726544\t\t\t51.0\n",
      "90:\t\t\t0.0\t\t0.2267520036372607\t\t\t51.0\n",
      "91:\t\t\t1.0\t\t0.2221912076774138\t\t\t48.0\n",
      "92:\t\t\t0.0\t\t0.2267520036372659\t\t\t51.0\n",
      "93:\t\t\t0.0\t\t0.22675200363726639\t\t\t51.0\n",
      "94:\t\t\t0.0\t\t0.22675200363726639\t\t\t51.0\n",
      "95:\t\t\t0.0\t\t0.22675200363726639\t\t\t51.0\n",
      "96:\t\t\t1.0\t\t0.22021603796376232\t\t\t50.0\n",
      "97:\t\t\t1.0\t\t0.23201808025483214\t\t\t51.0\n",
      "98:\t\t\t0.0\t\t0.2267587192864365\t\t\t51.0\n",
      "99:\t\t\t0.0\t\t0.22675200363726544\t\t\t51.0\n",
      "100:\t\t\t0.0\t\t0.22675200363726544\t\t\t51.0\n",
      "101:\t\t\t1.0\t\t0.2644413993627622\t\t\t50.0\n",
      "102:\t\t\t0.0\t\t0.2267520036372607\t\t\t51.0\n",
      "103:\t\t\t0.0\t\t0.2267520036372659\t\t\t51.0\n",
      "104:\t\t\t0.0\t\t0.22675200363726353\t\t\t51.0\n",
      "105:\t\t\t1.0\t\t0.23304186987009895\t\t\t52.0\n",
      "106:\t\t\t0.0\t\t0.2267520036372607\t\t\t51.0\n",
      "107:\t\t\t0.0\t\t0.22675636933897178\t\t\t51.0\n",
      "108:\t\t\t1.0\t\t0.22645384257890702\t\t\t50.0\n",
      "109:\t\t\t0.0\t\t0.2267520036372607\t\t\t51.0\n",
      "110:\t\t\t1.0\t\t0.2608206850402841\t\t\t51.0\n",
      "111:\t\t\t0.0\t\t0.2267520036372607\t\t\t51.0\n",
      "112:\t\t\t1.0\t\t0.24498274561232386\t\t\t50.0\n",
      "113:\t\t\t0.0\t\t0.2267520036372607\t\t\t51.0\n",
      "114:\t\t\t0.0\t\t0.2267520036372607\t\t\t51.0\n",
      "115:\t\t\t0.0\t\t0.2267520036372607\t\t\t51.0\n",
      "116:\t\t\t1.0\t\t0.22938882483614986\t\t\t49.0\n",
      "117:\t\t\t0.0\t\t0.22675200363726905\t\t\t51.0\n",
      "118:\t\t\t0.0\t\t0.22675981190859917\t\t\t51.0\n",
      "119:\t\t\t0.0\t\t0.22675340909625213\t\t\t51.0\n",
      "120:\t\t\t0.0\t\t0.22675200363726905\t\t\t51.0\n",
      "121:\t\t\t0.0\t\t0.22675200363726905\t\t\t51.0\n",
      "122:\t\t\t0.0\t\t0.22675200363726905\t\t\t51.0\n",
      "123:\t\t\t0.0\t\t0.22675534791837673\t\t\t51.0\n",
      "124:\t\t\t1.0\t\t0.21158513536481632\t\t\t48.0\n",
      "125:\t\t\t1.0\t\t0.234111580297642\t\t\t52.0\n",
      "126:\t\t\t0.0\t\t0.22675200363726905\t\t\t51.0\n",
      "127:\t\t\t0.0\t\t0.22675200363726147\t\t\t51.0\n",
      "128:\t\t\t0.0\t\t0.22676579685915563\t\t\t51.0\n",
      "129:\t\t\t0.0\t\t0.22675200363726544\t\t\t51.0\n",
      "130:\t\t\t1.0\t\t0.21963894561378625\t\t\t51.0\n",
      "131:\t\t\t1.0\t\t0.22880575202586478\t\t\t49.0\n",
      "132:\t\t\t1.0\t\t0.23075546086310955\t\t\t52.0\n",
      "133:\t\t\t0.0\t\t0.22675209250483294\t\t\t51.0\n",
      "134:\t\t\t1.0\t\t0.2331836084163122\t\t\t50.0\n",
      "135:\t\t\t0.0\t\t0.22675200363726106\t\t\t51.0\n",
      "136:\t\t\t0.0\t\t0.22675200363726106\t\t\t51.0\n",
      "137:\t\t\t0.0\t\t0.22675200363726544\t\t\t51.0\n",
      "138:\t\t\t0.0\t\t0.22675200363726544\t\t\t51.0\n",
      "139:\t\t\t1.0\t\t0.23486787473499973\t\t\t51.0\n",
      "140:\t\t\t0.0\t\t0.22675200363726905\t\t\t51.0\n",
      "141:\t\t\t0.0\t\t0.22675200363726106\t\t\t51.0\n",
      "142:\t\t\t0.0\t\t0.22675200363726303\t\t\t51.0\n",
      "143:\t\t\t1.0\t\t0.2257702311325544\t\t\t51.0\n",
      "144:\t\t\t1.0\t\t0.23616535583297324\t\t\t49.0\n",
      "145:\t\t\t0.0\t\t0.22675200363726905\t\t\t51.0\n",
      "146:\t\t\t1.0\t\t0.2263351829220147\t\t\t50.0\n",
      "147:\t\t\t1.0\t\t0.22851936788087895\t\t\t50.0\n",
      "148:\t\t\t0.0\t\t0.22676025706169525\t\t\t51.0\n",
      "149:\t\t\t0.0\t\t0.22675895215839048\t\t\t51.0\n",
      "-----------------------------------------------------------------------------------------------\n"
     ]
    }
   ],
   "source": [
    "print(\"index\\t\\t\\tis_SV\\t\\t    new margin\\t\\t\\t\\tnrsv\")\n",
    "print(\"-----------------------------------------------------------------------------------------------\")\n",
    "i=0\n",
    "print (\"%s:\\t%s\\t\\t%s\\t\\t\\t%s\" % (\"initial SVM model\",\"--\",margin1,SV_nr1))\n",
    "while i<150:\n",
    "    print (\"%s:\\t\\t\\t%s\\t\\t%s\\t\\t\\t%s\" % (index[i],sv_label[i],margin_array[i],SV_nr_array[i]))\n",
    "    i=i+1\n",
    "print(\"-----------------------------------------------------------------------------------------------\")"
   ]
  },
  {
   "cell_type": "code",
   "execution_count": 44,
   "metadata": {},
   "outputs": [
    {
     "data": {
      "text/plain": [
       "<matplotlib.legend.Legend at 0x23f9dfeff08>"
      ]
     },
     "execution_count": 44,
     "metadata": {},
     "output_type": "execute_result"
    },
    {
     "data": {
      "image/png": "[encoded data removed]",
      "text/plain": [
       "<Figure size 432x288 with 1 Axes>"
      ]
     },
     "metadata": {
      "needs_background": "light"
     },
     "output_type": "display_data"
    }
   ],
   "source": [
    "index = np.arange(150)\n",
    "plt.plot(0,SV_nr1,'go--')#for initial number of SV\n",
    "plt.plot(index[sv_label==1], SV_nr_array[sv_label==1],'x')#support vectors\n",
    "plt.plot(index[sv_label==0], SV_nr_array[sv_label==0],'.')#other vectors\n",
    "plt.xlabel(\"Vector Indices\")\n",
    "plt.ylabel(\"Number of Support Vectors\")\n",
    "plt.title(\"Removed Vectors vs. New Number of SV\")\n",
    "plt.legend([\"Intial SV number\",\"Support Vectors\", \"Other Vectors\"])"
   ]
  },
  {
   "cell_type": "markdown",
   "metadata": {},
   "source": [
    "### Bonus Task - 10 pts\n",
    "\n",
    "Use Python and [CVXOPT](http://cvxopt.org) QP solver to implement the hard margin SVM. "
   ]
  },
  {
   "cell_type": "code",
   "execution_count": 45,
   "metadata": {},
   "outputs": [
    {
     "data": {
      "text/plain": [
       "array([[0, 0],\n",
       "       [2, 2],\n",
       "       [2, 0],\n",
       "       [3, 0]])"
      ]
     },
     "execution_count": 45,
     "metadata": {},
     "output_type": "execute_result"
    }
   ],
   "source": [
    "#our toy dataset in slides\n",
    "x=np.array([[0,0],[2,2],[2, 0],[3, 0]])\n",
    "y=np.array([-1,-1,1,1])\n",
    "y=y.reshape((4,1))\n",
    "x"
   ]
  },
  {
   "cell_type": "code",
   "execution_count": 46,
   "metadata": {},
   "outputs": [
    {
     "data": {
      "text/plain": [
       "array([[-1],\n",
       "       [-1],\n",
       "       [ 1],\n",
       "       [ 1]])"
      ]
     },
     "execution_count": 46,
     "metadata": {},
     "output_type": "execute_result"
    }
   ],
   "source": [
    "y"
   ]
  },
  {
   "cell_type": "markdown",
   "metadata": {},
   "source": [
    "$\n",
    "Q= \\begin{bmatrix} \n",
    "    0 & 0 & \\dots & 0 \\\\\n",
    "    0 & 1 & &\\vdots  \\\\\n",
    "    \\vdots & &\\ddots &0 \\\\\n",
    "    0 &  \\dots  &  0   &1\n",
    "    \\end{bmatrix}_{(d+1)x(d+1)}\n",
    "\\quad\n",
    "p= \\begin{bmatrix} \n",
    "    0\\\\\n",
    "    0 \\\\\n",
    "    \\vdots \\\\\n",
    "    0\n",
    "    \\end{bmatrix}_{(d+1)}\n",
    "\\quad\n",
    "A = \\begin{bmatrix} \n",
    "    -y_1 & -y_1x_1^T \\\\\n",
    "    -y_2 & -y_2x_2^T \\\\\n",
    "    \\vdots & \\vdots \\\\\n",
    "    -y_N & -y_Nx_N^T\n",
    "    \\end{bmatrix} _{Nx(d+1)} \n",
    "\\quad\n",
    "c = \\begin{bmatrix} \n",
    "    -1 \\\\\n",
    "    -1 \\\\\n",
    "    \\vdots \\\\\n",
    "    -1\n",
    "    \\end{bmatrix}_{N}\n",
    "$"
   ]
  },
  {
   "cell_type": "code",
   "execution_count": 47,
   "metadata": {},
   "outputs": [],
   "source": [
    "#primal solution for hard margin svm\n",
    "from cvxopt import matrix, solvers\n",
    "\n",
    "def solver(x,y):\n",
    "    \n",
    "    N=x.shape[0]\n",
    "    d=x.shape[1]\n",
    "    Q=matrix(np.identity(d+1))#Constructing relevant matrices\n",
    "    p=matrix(np.zeros((d+1,1)))\n",
    "    A=matrix(np.zeros((N,d+1)))\n",
    "    c=-matrix(np.ones((N,1)))\n",
    "    Q[0,0]=0\n",
    "    for i in range(N):\n",
    "        A[i,0]=-y[i] #A matrix is constructed with relevant transformation\n",
    "    for i in range(N):\n",
    "        for j in range(d):\n",
    "            A[i,j+1]=-x[i,j]*y[i]\n",
    "    u=solvers.qp(Q,p,A,c)\n",
    "    b=u[\"x\"][0]\n",
    "    w=np.zeros((d,1))\n",
    "    for j in range(d):\n",
    "        w[j]=u[\"x\"][j+1]\n",
    "    return b, w\n",
    "def predict(x,b,w):\n",
    "    return np.sign(np.dot(x,w)+b)"
   ]
  },
  {
   "cell_type": "code",
   "execution_count": 48,
   "metadata": {},
   "outputs": [],
   "source": [
    "x=np.array([[0,0],[2,2],[2, 0],[3, 0]])\n",
    "y=np.array([-1,-1,1,1])\n",
    "y=y.reshape((4,1))"
   ]
  },
  {
   "cell_type": "code",
   "execution_count": 49,
   "metadata": {},
   "outputs": [
    {
     "name": "stdout",
     "output_type": "stream",
     "text": [
      "     pcost       dcost       gap    pres   dres\n",
      " 0:  3.2653e-01  1.9592e+00  6e+00  2e+00  4e+00\n",
      " 1:  1.5796e+00  8.5663e-01  7e-01  0e+00  2e-15\n",
      " 2:  1.0195e+00  9.9227e-01  3e-02  1e-16  1e-15\n",
      " 3:  1.0002e+00  9.9992e-01  3e-04  2e-16  2e-15\n",
      " 4:  1.0000e+00  1.0000e+00  3e-06  3e-16  7e-16\n",
      " 5:  1.0000e+00  1.0000e+00  3e-08  4e-16  7e-16\n",
      "Optimal solution found.\n"
     ]
    }
   ],
   "source": [
    "b,w=solver(x,y)#solving the SVM\n",
    "margin = 1/LA.norm(w)#margin"
   ]
  },
  {
   "cell_type": "code",
   "execution_count": 50,
   "metadata": {},
   "outputs": [
    {
     "data": {
      "text/plain": [
       "-1.0000000134075104"
      ]
     },
     "execution_count": 50,
     "metadata": {},
     "output_type": "execute_result"
    }
   ],
   "source": [
    "b #bias"
   ]
  },
  {
   "cell_type": "code",
   "execution_count": 51,
   "metadata": {},
   "outputs": [
    {
     "data": {
      "text/plain": [
       "array([[ 1.00000001],\n",
       "       [-1.00000001]])"
      ]
     },
     "execution_count": 51,
     "metadata": {},
     "output_type": "execute_result"
    }
   ],
   "source": [
    "w #weight: w1, w2"
   ]
  },
  {
   "cell_type": "code",
   "execution_count": 52,
   "metadata": {
    "scrolled": true
   },
   "outputs": [
    {
     "data": {
      "text/plain": [
       "0.7071067742201198"
      ]
     },
     "execution_count": 52,
     "metadata": {},
     "output_type": "execute_result"
    }
   ],
   "source": [
    "margin"
   ]
  },
  {
   "cell_type": "code",
   "execution_count": 53,
   "metadata": {},
   "outputs": [
    {
     "data": {
      "text/plain": [
       "array([-1., -1.,  1.,  1.])"
      ]
     },
     "execution_count": 53,
     "metadata": {},
     "output_type": "execute_result"
    }
   ],
   "source": [
    "estimated_y = np.reshape(predict(x,b,w),(4))\n",
    "desired_y = np.reshape(y,(4))\n",
    "estimated_y"
   ]
  },
  {
   "cell_type": "code",
   "execution_count": 54,
   "metadata": {},
   "outputs": [],
   "source": [
    "x_1 = x[:,0]\n",
    "x_2 = x[:,1]"
   ]
  },
  {
   "cell_type": "code",
   "execution_count": 55,
   "metadata": {},
   "outputs": [
    {
     "data": {
      "text/plain": [
       "<matplotlib.legend.Legend at 0x23f9e534fc8>"
      ]
     },
     "execution_count": 55,
     "metadata": {},
     "output_type": "execute_result"
    },
    {
     "data": {
      "image/png": "[encoded data removed]",
      "text/plain": [
       "<Figure size 432x288 with 1 Axes>"
      ]
     },
     "metadata": {
      "needs_background": "light"
     },
     "output_type": "display_data"
    }
   ],
   "source": [
    "pointa = [x_1.min(),(-w[0]/w[1])*(x_1.min())-(b/w[1])]\n",
    "pointb = [x_1.max(),(-w[0]/w[1])*(x_1.max())-(b/w[1])]\n",
    "x_values2 = [pointa[0], pointb[0]]\n",
    "y_values2 = [pointa[1], pointb[1]]\n",
    "\n",
    "plt.plot(x_values2, y_values2,color=\"blue\")\n",
    "plt.plot(x_1[desired_y==1],x_2[desired_y==1],'gx')\n",
    "plt.plot(x_1[desired_y==-1],x_2[desired_y==-1],'rx')\n",
    "plt.plot(x_1[estimated_y==1],x_2[estimated_y==1],'g+')\n",
    "plt.plot(x_1[estimated_y==-1],x_2[estimated_y==-1],'r+')\n",
    "plt.grid()\n",
    "plt.xlabel(\"x1\")\n",
    "plt.ylabel(\"x2\")\n",
    "plt.title(\"Desired Labels vs. Estimated Labels\")\n",
    "plt.legend([\"decision line (margin: \" + np.str(np.around(margin, decimals = 3))+\")\",\"Desired Label +1\",\"Desired Label -1\", \"Estimated Label +1\", \"Estimated Label -1\" ])"
   ]
  },
  {
   "cell_type": "code",
   "execution_count": null,
   "metadata": {},
   "outputs": [],
   "source": []
  }
 ],
 "metadata": {
  "kernelspec": {
   "display_name": "Python 3",
   "language": "python",
   "name": "python3"
  },
  "language_info": {
   "codemirror_mode": {
    "name": "ipython",
    "version": 3
   },
   "file_extension": ".py",
   "mimetype": "text/x-python",
   "name": "python",
   "nbconvert_exporter": "python",
   "pygments_lexer": "ipython3",
   "version": "3.7.4"
  }
 },
 "nbformat": 4,
 "nbformat_minor": 4
}
